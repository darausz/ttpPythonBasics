{
  "nbformat": 4,
  "nbformat_minor": 0,
  "metadata": {
    "colab": {
      "provenance": [],
      "toc_visible": true,
      "authorship_tag": "ABX9TyNF8z95KY5LH71/LI0KtiRc",
      "include_colab_link": true
    },
    "kernelspec": {
      "name": "python3",
      "display_name": "Python 3"
    },
    "language_info": {
      "name": "python"
    }
  },
  "cells": [
    {
      "cell_type": "markdown",
      "metadata": {
        "id": "view-in-github",
        "colab_type": "text"
      },
      "source": [
        "<a href=\"https://colab.research.google.com/github/dareaus/TTP23/blob/main/Intro_to_Python.ipynb\" target=\"_parent\"><img src=\"https://colab.research.google.com/assets/colab-badge.svg\" alt=\"Open In Colab\"/></a>"
      ]
    },
    {
      "cell_type": "markdown",
      "source": [
        "#Python Basics"
      ],
      "metadata": {
        "id": "dD4udrOGHkwp"
      }
    },
    {
      "cell_type": "code",
      "source": [
        "print(\"hi there\")\n",
        "#use the print() method to print \"hi there\" to the user"
      ],
      "metadata": {
        "colab": {
          "base_uri": "https://localhost:8080/"
        },
        "id": "9ihOETx6ImAQ",
        "outputId": "6c364a36-5815-402b-83f6-d540d8dc0d57"
      },
      "execution_count": 83,
      "outputs": [
        {
          "output_type": "stream",
          "name": "stdout",
          "text": [
            "hi there\n"
          ]
        }
      ]
    },
    {
      "cell_type": "code",
      "source": [
        "print(\"there are two types of slashes:\\\\ and /\")\n",
        "#\\ is an esape character so only one is printed"
      ],
      "metadata": {
        "colab": {
          "base_uri": "https://localhost:8080/"
        },
        "id": "eD-z1TVxImGB",
        "outputId": "957a6d2a-80b2-4095-c7e5-36bb4dd24ad3"
      },
      "execution_count": 84,
      "outputs": [
        {
          "output_type": "stream",
          "name": "stdout",
          "text": [
            "there are two types of slashes:\\ and /\n"
          ]
        }
      ]
    },
    {
      "cell_type": "code",
      "source": [
        "print(\"\\n\\tthis is a tabbled line\\nthis is a regular line\")\n",
        "#\\n is new line, \\t is indent"
      ],
      "metadata": {
        "colab": {
          "base_uri": "https://localhost:8080/"
        },
        "id": "XTD559ZgImIs",
        "outputId": "1776095c-4b7c-47f0-cf12-79298b38c820"
      },
      "execution_count": 85,
      "outputs": [
        {
          "output_type": "stream",
          "name": "stdout",
          "text": [
            "\n",
            "\tthis is a tabbled line\n",
            "this is a regular line\n"
          ]
        }
      ]
    },
    {
      "cell_type": "code",
      "source": [
        "print(\"first name\" + \" last name\")\n",
        "#+ lets you combine strings"
      ],
      "metadata": {
        "colab": {
          "base_uri": "https://localhost:8080/"
        },
        "id": "5Nm0_HCbImL4",
        "outputId": "f2bad8b2-6f9c-434c-fd0e-06114ae8a0d5"
      },
      "execution_count": 86,
      "outputs": [
        {
          "output_type": "stream",
          "name": "stdout",
          "text": [
            "first name last name\n"
          ]
        }
      ]
    },
    {
      "cell_type": "markdown",
      "source": [
        "#Variables"
      ],
      "metadata": {
        "id": "nn67aLVvLXbc"
      }
    },
    {
      "cell_type": "code",
      "source": [
        "dogs = 3\n",
        "cats = \"many fluffy cats\"\n",
        "#no type declaration is needed"
      ],
      "metadata": {
        "id": "CdZvfaW3LgZJ"
      },
      "execution_count": 87,
      "outputs": []
    },
    {
      "cell_type": "code",
      "source": [
        "dogs\n",
        "#output value of dogs"
      ],
      "metadata": {
        "colab": {
          "base_uri": "https://localhost:8080/"
        },
        "id": "JiE65VJhLgbl",
        "outputId": "cb131275-bfff-4553-d405-4bc38a734ebb"
      },
      "execution_count": 88,
      "outputs": [
        {
          "output_type": "execute_result",
          "data": {
            "text/plain": [
              "3"
            ]
          },
          "metadata": {},
          "execution_count": 88
        }
      ]
    },
    {
      "cell_type": "code",
      "source": [
        "cats\n",
        "#output value of cats"
      ],
      "metadata": {
        "colab": {
          "base_uri": "https://localhost:8080/",
          "height": 35
        },
        "id": "rVx7_2ybLgfP",
        "outputId": "530e7fd4-715a-46ab-d428-49b4894ada1e"
      },
      "execution_count": 89,
      "outputs": [
        {
          "output_type": "execute_result",
          "data": {
            "text/plain": [
              "'many fluffy cats'"
            ],
            "application/vnd.google.colaboratory.intrinsic+json": {
              "type": "string"
            }
          },
          "metadata": {},
          "execution_count": 89
        }
      ]
    },
    {
      "cell_type": "code",
      "source": [
        "type(dogs)\n",
        "#type of dogs is int"
      ],
      "metadata": {
        "colab": {
          "base_uri": "https://localhost:8080/"
        },
        "id": "LOSDLwIAMOwZ",
        "outputId": "d589bb20-2308-4230-b742-6888dc17483e"
      },
      "execution_count": 90,
      "outputs": [
        {
          "output_type": "execute_result",
          "data": {
            "text/plain": [
              "int"
            ]
          },
          "metadata": {},
          "execution_count": 90
        }
      ]
    },
    {
      "cell_type": "code",
      "source": [
        "type(cats)\n",
        "#type of cats is string"
      ],
      "metadata": {
        "colab": {
          "base_uri": "https://localhost:8080/"
        },
        "id": "W4QxUtN6MRJo",
        "outputId": "7f84c5a4-d6c7-4b84-8c15-6e00c1a3ecdb"
      },
      "execution_count": 91,
      "outputs": [
        {
          "output_type": "execute_result",
          "data": {
            "text/plain": [
              "str"
            ]
          },
          "metadata": {},
          "execution_count": 91
        }
      ]
    },
    {
      "cell_type": "code",
      "source": [
        "hi = \"hello\"\n",
        "name = \" john\"\n",
        "print(hi + name)\n",
        "#different types cannot be concatenated"
      ],
      "metadata": {
        "colab": {
          "base_uri": "https://localhost:8080/"
        },
        "id": "k5Wa_LDcMTUg",
        "outputId": "8ce6efe6-2873-4d9b-e58e-19be40efd020"
      },
      "execution_count": 92,
      "outputs": [
        {
          "output_type": "stream",
          "name": "stdout",
          "text": [
            "hello john\n"
          ]
        }
      ]
    },
    {
      "cell_type": "code",
      "source": [
        "moreDogs = 5\n",
        "print(dogs + moreDogs)\n",
        "#int variables can be added"
      ],
      "metadata": {
        "colab": {
          "base_uri": "https://localhost:8080/"
        },
        "id": "3HqlwXYOMrz2",
        "outputId": "6de97118-87e9-454d-92b3-cd9fdf80c5f6"
      },
      "execution_count": 93,
      "outputs": [
        {
          "output_type": "stream",
          "name": "stdout",
          "text": [
            "8\n"
          ]
        }
      ]
    },
    {
      "cell_type": "code",
      "source": [
        "price = 19.99\n",
        "amount = 3"
      ],
      "metadata": {
        "id": "XMyOKfMvM1pb"
      },
      "execution_count": 94,
      "outputs": []
    },
    {
      "cell_type": "code",
      "source": [
        "print(price * amount)\n",
        "#int variables can have math operations done on them"
      ],
      "metadata": {
        "colab": {
          "base_uri": "https://localhost:8080/"
        },
        "id": "fx0-6EKKM5oW",
        "outputId": "5b1be084-55e9-4ef9-9ece-18125a09e167"
      },
      "execution_count": 95,
      "outputs": [
        {
          "output_type": "stream",
          "name": "stdout",
          "text": [
            "59.97\n"
          ]
        }
      ]
    },
    {
      "cell_type": "code",
      "source": [
        "#Variable Re-assignment\n",
        "dogs = \"new value\"\n",
        "print(dogs)\n",
        "#variables can be re-assigned with different types"
      ],
      "metadata": {
        "colab": {
          "base_uri": "https://localhost:8080/"
        },
        "id": "XlpWGZGLM8MO",
        "outputId": "0dc7913e-aad0-42a8-976a-c7f70c12159e"
      },
      "execution_count": 96,
      "outputs": [
        {
          "output_type": "stream",
          "name": "stdout",
          "text": [
            "new value\n"
          ]
        }
      ]
    },
    {
      "cell_type": "code",
      "source": [
        "cats, dogs, rabbits = 2, 5, 'cute'\n",
        "#multiple variables can be assigned at once"
      ],
      "metadata": {
        "id": "-TXaSeNeNNiU"
      },
      "execution_count": 97,
      "outputs": []
    },
    {
      "cell_type": "code",
      "source": [
        "print(dogs)\n",
        "#print dogs"
      ],
      "metadata": {
        "colab": {
          "base_uri": "https://localhost:8080/"
        },
        "id": "yM75WhovNm1x",
        "outputId": "fc0b0199-e218-4bda-a0ed-610be15a4e97"
      },
      "execution_count": 98,
      "outputs": [
        {
          "output_type": "stream",
          "name": "stdout",
          "text": [
            "5\n"
          ]
        }
      ]
    },
    {
      "cell_type": "markdown",
      "source": [
        "#More Strings"
      ],
      "metadata": {
        "id": "lFhX6pLlNok1"
      }
    },
    {
      "cell_type": "markdown",
      "source": [
        "##Indexing"
      ],
      "metadata": {
        "id": "rDNUjIjpNrxS"
      }
    },
    {
      "cell_type": "code",
      "source": [
        "greeting = 'hello world!'\n",
        "#assign string to greeting"
      ],
      "metadata": {
        "id": "nY_NcD86Nuuq"
      },
      "execution_count": 99,
      "outputs": []
    },
    {
      "cell_type": "code",
      "source": [
        "greeting\n",
        "#print string in greeting"
      ],
      "metadata": {
        "colab": {
          "base_uri": "https://localhost:8080/",
          "height": 35
        },
        "id": "V-VEM1e5N6R4",
        "outputId": "e45b204d-9436-454d-8461-af9d2aa3c5e2"
      },
      "execution_count": 100,
      "outputs": [
        {
          "output_type": "execute_result",
          "data": {
            "text/plain": [
              "'hello world!'"
            ],
            "application/vnd.google.colaboratory.intrinsic+json": {
              "type": "string"
            }
          },
          "metadata": {},
          "execution_count": 100
        }
      ]
    },
    {
      "cell_type": "code",
      "source": [
        "print(greeting[4])\n",
        "#print 5th character in greeting"
      ],
      "metadata": {
        "colab": {
          "base_uri": "https://localhost:8080/"
        },
        "id": "js-xir9uN66f",
        "outputId": "4f8f7e6b-b3ec-4ddf-988f-dbcc01d54cf1"
      },
      "execution_count": 101,
      "outputs": [
        {
          "output_type": "stream",
          "name": "stdout",
          "text": [
            "o\n"
          ]
        }
      ]
    },
    {
      "cell_type": "code",
      "source": [
        "newString = 'this is a sentence'\n",
        "print(newString[3])\n",
        "print(newString[5])\n",
        "#print characters 4 and 6"
      ],
      "metadata": {
        "colab": {
          "base_uri": "https://localhost:8080/"
        },
        "id": "OJ71BzaWN8oB",
        "outputId": "60ba36e4-543d-4c8e-b498-38132177021f"
      },
      "execution_count": 102,
      "outputs": [
        {
          "output_type": "stream",
          "name": "stdout",
          "text": [
            "s\n",
            "i\n"
          ]
        }
      ]
    },
    {
      "cell_type": "code",
      "source": [
        "len(greeting)\n",
        "#get length of string"
      ],
      "metadata": {
        "colab": {
          "base_uri": "https://localhost:8080/"
        },
        "id": "yPPUvhQeOdXR",
        "outputId": "5e37d6cb-c0cb-46eb-f394-4798484b0b4b"
      },
      "execution_count": 103,
      "outputs": [
        {
          "output_type": "execute_result",
          "data": {
            "text/plain": [
              "12"
            ]
          },
          "metadata": {},
          "execution_count": 103
        }
      ]
    },
    {
      "cell_type": "code",
      "source": [
        "greeting[11]\n",
        "#get last character in greeting"
      ],
      "metadata": {
        "colab": {
          "base_uri": "https://localhost:8080/",
          "height": 35
        },
        "id": "ZDK4VW32PaBg",
        "outputId": "48e899c3-36f6-4afa-da1b-c1c652586d7b"
      },
      "execution_count": 104,
      "outputs": [
        {
          "output_type": "execute_result",
          "data": {
            "text/plain": [
              "'!'"
            ],
            "application/vnd.google.colaboratory.intrinsic+json": {
              "type": "string"
            }
          },
          "metadata": {},
          "execution_count": 104
        }
      ]
    },
    {
      "cell_type": "code",
      "source": [
        "greeting[-1]\n",
        "#get last character in greeting"
      ],
      "metadata": {
        "colab": {
          "base_uri": "https://localhost:8080/",
          "height": 35
        },
        "id": "PYsL0aqJPeHX",
        "outputId": "b260c986-9a30-4e8b-9740-3d39444b67e0"
      },
      "execution_count": 105,
      "outputs": [
        {
          "output_type": "execute_result",
          "data": {
            "text/plain": [
              "'!'"
            ],
            "application/vnd.google.colaboratory.intrinsic+json": {
              "type": "string"
            }
          },
          "metadata": {},
          "execution_count": 105
        }
      ]
    },
    {
      "cell_type": "markdown",
      "source": [
        "##String Formatting"
      ],
      "metadata": {
        "id": "x4AHgGdmPhB5"
      }
    },
    {
      "cell_type": "code",
      "source": [
        "price = 59.99\n",
        "#set int to price"
      ],
      "metadata": {
        "id": "JQjVzNwkP_Ki"
      },
      "execution_count": 106,
      "outputs": []
    },
    {
      "cell_type": "code",
      "source": [
        "message = 'the product costs ' + str(price) + ' dollars'\n",
        "#convert price from int to string to concatenate"
      ],
      "metadata": {
        "id": "fPKTbI4AQBK7"
      },
      "execution_count": 107,
      "outputs": []
    },
    {
      "cell_type": "code",
      "source": [
        "message\n",
        "#print message"
      ],
      "metadata": {
        "colab": {
          "base_uri": "https://localhost:8080/",
          "height": 35
        },
        "id": "dolLiuZkQHPI",
        "outputId": "ab604e76-8fd7-493d-d1f0-45c13d7ef3bb"
      },
      "execution_count": 108,
      "outputs": [
        {
          "output_type": "execute_result",
          "data": {
            "text/plain": [
              "'the product costs 59.99 dollars'"
            ],
            "application/vnd.google.colaboratory.intrinsic+json": {
              "type": "string"
            }
          },
          "metadata": {},
          "execution_count": 108
        }
      ]
    },
    {
      "cell_type": "markdown",
      "source": [
        "###the .format() method"
      ],
      "metadata": {
        "id": "g1PsYX0GRN9j"
      }
    },
    {
      "cell_type": "code",
      "source": [
        "msg = 'the product costs {} dollars'.format(price)\n",
        "#puts price into {}"
      ],
      "metadata": {
        "id": "OqIFU37FQc4f"
      },
      "execution_count": 109,
      "outputs": []
    },
    {
      "cell_type": "code",
      "source": [
        "msg\n",
        "#print msg"
      ],
      "metadata": {
        "colab": {
          "base_uri": "https://localhost:8080/",
          "height": 35
        },
        "id": "J_q0bb7GQusy",
        "outputId": "92c9aa29-abd9-40ac-cf5a-46e1ce5af384"
      },
      "execution_count": 110,
      "outputs": [
        {
          "output_type": "execute_result",
          "data": {
            "text/plain": [
              "'the product costs 59.99 dollars'"
            ],
            "application/vnd.google.colaboratory.intrinsic+json": {
              "type": "string"
            }
          },
          "metadata": {},
          "execution_count": 110
        }
      ]
    },
    {
      "cell_type": "code",
      "source": [
        "msg2 = 'for {} products at the price of {}, the total will be: {}'\n",
        "#multiple {} can be used"
      ],
      "metadata": {
        "id": "1Lce7dWKQzIO"
      },
      "execution_count": 111,
      "outputs": []
    },
    {
      "cell_type": "code",
      "source": [
        "amount = 3\n",
        "total = amount * price\n",
        "#set amount and total variables"
      ],
      "metadata": {
        "id": "SFun6jiKRd9v"
      },
      "execution_count": 112,
      "outputs": []
    },
    {
      "cell_type": "code",
      "source": [
        "print(msg2.format(amount, price, total))\n",
        "#print msg2 with the 3 variables, shows them in order"
      ],
      "metadata": {
        "colab": {
          "base_uri": "https://localhost:8080/"
        },
        "id": "QGK_9KKERtn9",
        "outputId": "1acad0ee-6f88-42d0-a1ee-e24ef800ad95"
      },
      "execution_count": 113,
      "outputs": [
        {
          "output_type": "stream",
          "name": "stdout",
          "text": [
            "for 3 products at the price of 59.99, the total will be: 179.97\n"
          ]
        }
      ]
    },
    {
      "cell_type": "code",
      "source": [
        "msg3 = 'for {2} products at the price of {0}. the total is {1}'\n",
        "#assign the order for msg3"
      ],
      "metadata": {
        "id": "PFmwym3rR0P6"
      },
      "execution_count": 114,
      "outputs": []
    },
    {
      "cell_type": "code",
      "source": [
        "print(msg3.format(price, total, amount))\n",
        "#print msg3"
      ],
      "metadata": {
        "colab": {
          "base_uri": "https://localhost:8080/"
        },
        "id": "SbXptxWSSjvd",
        "outputId": "501af2c2-2f69-4132-ac93-3fb9af9833e8"
      },
      "execution_count": 115,
      "outputs": [
        {
          "output_type": "stream",
          "name": "stdout",
          "text": [
            "for 3 products at the price of 59.99. the total is 179.97\n"
          ]
        }
      ]
    },
    {
      "cell_type": "markdown",
      "source": [
        "###the f-string method"
      ],
      "metadata": {
        "id": "X_gHOZfcSqYQ"
      }
    },
    {
      "cell_type": "code",
      "source": [
        "price = 19.99\n",
        "items = 3\n",
        "#assign ints to price and items"
      ],
      "metadata": {
        "id": "i5CiwPwBTLZt"
      },
      "execution_count": 116,
      "outputs": []
    },
    {
      "cell_type": "code",
      "source": [
        "msg = f'this individual product is {price}'\n",
        "#alternative format for {}"
      ],
      "metadata": {
        "id": "VAiWm4VKTKIn"
      },
      "execution_count": 117,
      "outputs": []
    },
    {
      "cell_type": "code",
      "source": [
        "msg\n",
        "#print msg"
      ],
      "metadata": {
        "colab": {
          "base_uri": "https://localhost:8080/",
          "height": 35
        },
        "id": "1Uyv798qTVpg",
        "outputId": "d342d7af-72fe-4e39-956b-fd3ce0a6b9db"
      },
      "execution_count": 118,
      "outputs": [
        {
          "output_type": "execute_result",
          "data": {
            "text/plain": [
              "'this individual product is 19.99'"
            ],
            "application/vnd.google.colaboratory.intrinsic+json": {
              "type": "string"
            }
          },
          "metadata": {},
          "execution_count": 118
        }
      ]
    },
    {
      "cell_type": "code",
      "source": [
        "msg2 = f\"the total for your purchase is {price * items}\"\n",
        "#multiple {} for alternative format"
      ],
      "metadata": {
        "id": "1wG5T85UTW7L"
      },
      "execution_count": 119,
      "outputs": []
    },
    {
      "cell_type": "code",
      "source": [
        "msg2\n",
        "#print msg2"
      ],
      "metadata": {
        "colab": {
          "base_uri": "https://localhost:8080/",
          "height": 35
        },
        "id": "-5pqRj4-Tjxl",
        "outputId": "7f1906f9-c18b-41c1-f3a7-4709aa104833"
      },
      "execution_count": 120,
      "outputs": [
        {
          "output_type": "execute_result",
          "data": {
            "text/plain": [
              "'the total for your purchase is 59.97'"
            ],
            "application/vnd.google.colaboratory.intrinsic+json": {
              "type": "string"
            }
          },
          "metadata": {},
          "execution_count": 120
        }
      ]
    },
    {
      "cell_type": "markdown",
      "source": [
        "###string functions"
      ],
      "metadata": {
        "id": "nuLfzVJxJE9I"
      }
    },
    {
      "cell_type": "code",
      "source": [
        "dir(msg)\n",
        "#show available functions for objects"
      ],
      "metadata": {
        "colab": {
          "base_uri": "https://localhost:8080/"
        },
        "id": "LDbUzHoKJOuB",
        "outputId": "cc7d6bb8-ff6b-452c-cdc1-684147e418c1"
      },
      "execution_count": 121,
      "outputs": [
        {
          "output_type": "execute_result",
          "data": {
            "text/plain": [
              "['__add__',\n",
              " '__class__',\n",
              " '__contains__',\n",
              " '__delattr__',\n",
              " '__dir__',\n",
              " '__doc__',\n",
              " '__eq__',\n",
              " '__format__',\n",
              " '__ge__',\n",
              " '__getattribute__',\n",
              " '__getitem__',\n",
              " '__getnewargs__',\n",
              " '__gt__',\n",
              " '__hash__',\n",
              " '__init__',\n",
              " '__init_subclass__',\n",
              " '__iter__',\n",
              " '__le__',\n",
              " '__len__',\n",
              " '__lt__',\n",
              " '__mod__',\n",
              " '__mul__',\n",
              " '__ne__',\n",
              " '__new__',\n",
              " '__reduce__',\n",
              " '__reduce_ex__',\n",
              " '__repr__',\n",
              " '__rmod__',\n",
              " '__rmul__',\n",
              " '__setattr__',\n",
              " '__sizeof__',\n",
              " '__str__',\n",
              " '__subclasshook__',\n",
              " 'capitalize',\n",
              " 'casefold',\n",
              " 'center',\n",
              " 'count',\n",
              " 'encode',\n",
              " 'endswith',\n",
              " 'expandtabs',\n",
              " 'find',\n",
              " 'format',\n",
              " 'format_map',\n",
              " 'index',\n",
              " 'isalnum',\n",
              " 'isalpha',\n",
              " 'isascii',\n",
              " 'isdecimal',\n",
              " 'isdigit',\n",
              " 'isidentifier',\n",
              " 'islower',\n",
              " 'isnumeric',\n",
              " 'isprintable',\n",
              " 'isspace',\n",
              " 'istitle',\n",
              " 'isupper',\n",
              " 'join',\n",
              " 'ljust',\n",
              " 'lower',\n",
              " 'lstrip',\n",
              " 'maketrans',\n",
              " 'partition',\n",
              " 'removeprefix',\n",
              " 'removesuffix',\n",
              " 'replace',\n",
              " 'rfind',\n",
              " 'rindex',\n",
              " 'rjust',\n",
              " 'rpartition',\n",
              " 'rsplit',\n",
              " 'rstrip',\n",
              " 'split',\n",
              " 'splitlines',\n",
              " 'startswith',\n",
              " 'strip',\n",
              " 'swapcase',\n",
              " 'title',\n",
              " 'translate',\n",
              " 'upper',\n",
              " 'zfill']"
            ]
          },
          "metadata": {},
          "execution_count": 121
        }
      ]
    },
    {
      "cell_type": "code",
      "source": [
        "msg\n",
        "#print msg"
      ],
      "metadata": {
        "colab": {
          "base_uri": "https://localhost:8080/",
          "height": 35
        },
        "id": "mUWZpZAoJeMe",
        "outputId": "5bdc8337-3060-453f-f927-7f80a842c80f"
      },
      "execution_count": 122,
      "outputs": [
        {
          "output_type": "execute_result",
          "data": {
            "text/plain": [
              "'this individual product is 19.99'"
            ],
            "application/vnd.google.colaboratory.intrinsic+json": {
              "type": "string"
            }
          },
          "metadata": {},
          "execution_count": 122
        }
      ]
    },
    {
      "cell_type": "code",
      "source": [
        "msg = \"hello my name is Bob\"\n",
        "#reassign msg"
      ],
      "metadata": {
        "id": "ETtQJGuUJyLK"
      },
      "execution_count": 123,
      "outputs": []
    },
    {
      "cell_type": "code",
      "source": [
        "words = msg.split(\" \")\n",
        "#split string in array with the separator"
      ],
      "metadata": {
        "id": "CywWC6PeJ5Ry"
      },
      "execution_count": 124,
      "outputs": []
    },
    {
      "cell_type": "code",
      "source": [
        "print(words)\n",
        "#print words"
      ],
      "metadata": {
        "colab": {
          "base_uri": "https://localhost:8080/"
        },
        "id": "YBZYXHAGJ-6i",
        "outputId": "3e54f839-5945-4918-9600-7567eb981713"
      },
      "execution_count": 125,
      "outputs": [
        {
          "output_type": "stream",
          "name": "stdout",
          "text": [
            "['hello', 'my', 'name', 'is', 'Bob']\n"
          ]
        }
      ]
    },
    {
      "cell_type": "code",
      "source": [
        "elements = msg.split(\"e\")\n",
        "#split message every e"
      ],
      "metadata": {
        "id": "Tln8jeVkKEG1"
      },
      "execution_count": 126,
      "outputs": []
    },
    {
      "cell_type": "code",
      "source": [
        "print(elements)\n",
        "#print elements"
      ],
      "metadata": {
        "colab": {
          "base_uri": "https://localhost:8080/"
        },
        "id": "3q6TpZbsKOti",
        "outputId": "8ffca92c-9d58-4562-9b94-617e3c87dd86"
      },
      "execution_count": 127,
      "outputs": [
        {
          "output_type": "stream",
          "name": "stdout",
          "text": [
            "['h', 'llo my nam', ' is Bob']\n"
          ]
        }
      ]
    },
    {
      "cell_type": "code",
      "source": [
        "print(msg.upper())\n",
        "#print everything uppercase"
      ],
      "metadata": {
        "colab": {
          "base_uri": "https://localhost:8080/"
        },
        "id": "ed4QjBOpKQO5",
        "outputId": "1a91df89-c32e-4ee7-f171-c8043895b964"
      },
      "execution_count": 128,
      "outputs": [
        {
          "output_type": "stream",
          "name": "stdout",
          "text": [
            "HELLO MY NAME IS BOB\n"
          ]
        }
      ]
    },
    {
      "cell_type": "code",
      "source": [
        "print(msg.lower())\n",
        "#print everything lowercase"
      ],
      "metadata": {
        "colab": {
          "base_uri": "https://localhost:8080/"
        },
        "id": "2pMvBQ-lKcoG",
        "outputId": "11366cbd-8181-4f8c-9175-689515e5efb7"
      },
      "execution_count": 129,
      "outputs": [
        {
          "output_type": "stream",
          "name": "stdout",
          "text": [
            "hello my name is bob\n"
          ]
        }
      ]
    },
    {
      "cell_type": "markdown",
      "source": [
        "###the input() method"
      ],
      "metadata": {
        "id": "C2YWzydiKfv8"
      }
    },
    {
      "cell_type": "code",
      "source": [
        "#data = input('what is your name: ')\n",
        "#print(f'Hello {data}')\n",
        "#assign input and print hello with the input"
      ],
      "metadata": {
        "colab": {
          "base_uri": "https://localhost:8080/"
        },
        "id": "AIAIj_gkMpug",
        "outputId": "9f2f555f-4a68-4bb7-bbd9-04dc2296840b"
      },
      "execution_count": 130,
      "outputs": [
        {
          "output_type": "stream",
          "name": "stdout",
          "text": [
            "what is your name: Bob\n",
            "Hello Bob\n"
          ]
        }
      ]
    },
    {
      "cell_type": "code",
      "source": [
        "#type(data)\n",
        "#input() gives a string"
      ],
      "metadata": {
        "colab": {
          "base_uri": "https://localhost:8080/"
        },
        "id": "N7j3GF6RNUjF",
        "outputId": "1d91fe18-0247-4b29-d237-d33f0b651df4"
      },
      "execution_count": 131,
      "outputs": [
        {
          "output_type": "execute_result",
          "data": {
            "text/plain": [
              "str"
            ]
          },
          "metadata": {},
          "execution_count": 131
        }
      ]
    },
    {
      "cell_type": "code",
      "source": [
        "#print(data)\n",
        "#print data"
      ],
      "metadata": {
        "colab": {
          "base_uri": "https://localhost:8080/"
        },
        "id": "-zb0KhYwMyMj",
        "outputId": "cd205a2d-b748-4c2a-ad93-443d59c4e530"
      },
      "execution_count": 132,
      "outputs": [
        {
          "output_type": "stream",
          "name": "stdout",
          "text": [
            "Bob\n"
          ]
        }
      ]
    },
    {
      "cell_type": "code",
      "source": [
        "#num = int(input('enter a number: '))\n",
        "#print(num)\n",
        "#typecast input to int"
      ],
      "metadata": {
        "colab": {
          "base_uri": "https://localhost:8080/"
        },
        "id": "eM2ySG02M2m6",
        "outputId": "bb34fb12-610a-4496-87c2-b5a6ea3c3aca"
      },
      "execution_count": 133,
      "outputs": [
        {
          "output_type": "stream",
          "name": "stdout",
          "text": [
            "enter a number: 23\n",
            "23\n"
          ]
        }
      ]
    },
    {
      "cell_type": "code",
      "source": [
        "#type(num)\n",
        "#print type of num"
      ],
      "metadata": {
        "colab": {
          "base_uri": "https://localhost:8080/"
        },
        "id": "qRGsGsKPNlSC",
        "outputId": "83976f1c-b28d-4430-8bb8-8373af21b4ce"
      },
      "execution_count": 134,
      "outputs": [
        {
          "output_type": "execute_result",
          "data": {
            "text/plain": [
              "int"
            ]
          },
          "metadata": {},
          "execution_count": 134
        }
      ]
    },
    {
      "cell_type": "code",
      "source": [
        "#Greeting page with a script\n",
        "#name = input('Hey, what is your name? ')\n",
        "#age = input('How old are you? ')\n",
        "#hobby = input('What is your favorite hobby? ')\n",
        "#print(f'Hello {name}, I see that you are {age} years old and you like {hobby}')"
      ],
      "metadata": {
        "colab": {
          "base_uri": "https://localhost:8080/"
        },
        "id": "lV0Yu7h4NobL",
        "outputId": "36a91423-6737-4fd8-c5d9-9ace7e34317c"
      },
      "execution_count": 135,
      "outputs": [
        {
          "output_type": "stream",
          "name": "stdout",
          "text": [
            "Hey, what is your name? Bob\n",
            "How old are you? 23\n",
            "What is your favorite hobby? reading\n",
            "Hello Bob, I see that you are 23 years old and you like reading\n"
          ]
        }
      ]
    },
    {
      "cell_type": "markdown",
      "source": [
        "#Numbers"
      ],
      "metadata": {
        "id": "0AxLszzuPRmM"
      }
    },
    {
      "cell_type": "code",
      "source": [
        "cats = 7\n",
        "money = -35.5\n",
        "x = 2+5j\n",
        "message = \"hello alice!\"\n",
        "#asssign variables"
      ],
      "metadata": {
        "id": "CuFpGukEXb-N"
      },
      "execution_count": 136,
      "outputs": []
    },
    {
      "cell_type": "code",
      "source": [
        "print (type(cats))\n",
        "print (type(money))\n",
        "print (type(x))\n",
        "print (type(message))\n",
        "#print types"
      ],
      "metadata": {
        "colab": {
          "base_uri": "https://localhost:8080/"
        },
        "id": "0hZPj9cIXtVR",
        "outputId": "03474988-d415-4478-c665-6bdfb188a100"
      },
      "execution_count": 137,
      "outputs": [
        {
          "output_type": "stream",
          "name": "stdout",
          "text": [
            "<class 'int'>\n",
            "<class 'float'>\n",
            "<class 'complex'>\n",
            "<class 'str'>\n"
          ]
        }
      ]
    },
    {
      "cell_type": "markdown",
      "source": [
        "##Conversions"
      ],
      "metadata": {
        "id": "tdSyh8HYXyqs"
      }
    },
    {
      "cell_type": "code",
      "source": [
        "value = 3.5\n",
        "convert = int(value)\n",
        "print(convert)\n",
        "print(type(convert))\n",
        "#int loses decimal"
      ],
      "metadata": {
        "colab": {
          "base_uri": "https://localhost:8080/"
        },
        "id": "Us7TAuhfX6pV",
        "outputId": "4f78fc87-6919-498b-da4a-37a30ffabdc7"
      },
      "execution_count": 138,
      "outputs": [
        {
          "output_type": "stream",
          "name": "stdout",
          "text": [
            "3\n",
            "<class 'int'>\n"
          ]
        }
      ]
    },
    {
      "cell_type": "code",
      "source": [
        "num = int('25')\n",
        "print(num)\n",
        "print(type(num))\n",
        "#print num and type of num"
      ],
      "metadata": {
        "colab": {
          "base_uri": "https://localhost:8080/"
        },
        "id": "XA4f8GaAYNb1",
        "outputId": "93438af1-4b28-4d49-a9dc-d33f77f14598"
      },
      "execution_count": 139,
      "outputs": [
        {
          "output_type": "stream",
          "name": "stdout",
          "text": [
            "25\n",
            "<class 'int'>\n"
          ]
        }
      ]
    },
    {
      "cell_type": "code",
      "source": [
        "num2 = 'twenty'\n",
        "print(len(num2))\n",
        "#print length of num2"
      ],
      "metadata": {
        "colab": {
          "base_uri": "https://localhost:8080/"
        },
        "id": "QLd_lf1aYcg5",
        "outputId": "2f51ff28-e8ab-4893-c6f6-adbfbf44ec10"
      },
      "execution_count": 140,
      "outputs": [
        {
          "output_type": "stream",
          "name": "stdout",
          "text": [
            "6\n"
          ]
        }
      ]
    },
    {
      "cell_type": "markdown",
      "source": [
        "##Operations"
      ],
      "metadata": {
        "id": "dMkB4E8tYjM-"
      }
    },
    {
      "cell_type": "markdown",
      "source": [
        "###modulus operator"
      ],
      "metadata": {
        "id": "hbn_8-hoacol"
      }
    },
    {
      "cell_type": "code",
      "source": [
        "print(259/4)\n",
        "#print 259/4"
      ],
      "metadata": {
        "colab": {
          "base_uri": "https://localhost:8080/"
        },
        "id": "Nnmm1II0ajIq",
        "outputId": "4460f7e6-2098-4264-8e1c-84098944f886"
      },
      "execution_count": 141,
      "outputs": [
        {
          "output_type": "stream",
          "name": "stdout",
          "text": [
            "64.75\n"
          ]
        }
      ]
    },
    {
      "cell_type": "code",
      "source": [
        "print (259%4)\n",
        "#print remainder of 259/4"
      ],
      "metadata": {
        "colab": {
          "base_uri": "https://localhost:8080/"
        },
        "id": "IJnu4IsmaqHh",
        "outputId": "228e6d68-08d4-4a2f-896b-9d7c93bcae60"
      },
      "execution_count": 142,
      "outputs": [
        {
          "output_type": "stream",
          "name": "stdout",
          "text": [
            "3\n"
          ]
        }
      ]
    },
    {
      "cell_type": "markdown",
      "source": [
        "###power operator"
      ],
      "metadata": {
        "id": "-5I4CTBYatVv"
      }
    },
    {
      "cell_type": "code",
      "source": [
        "print(9**4)\n",
        "#print 9 to the fourth power"
      ],
      "metadata": {
        "colab": {
          "base_uri": "https://localhost:8080/"
        },
        "id": "Pnk6FAf_ayl6",
        "outputId": "b9fec535-b4a4-4511-8ffb-d44df87e1c1c"
      },
      "execution_count": 143,
      "outputs": [
        {
          "output_type": "stream",
          "name": "stdout",
          "text": [
            "6561\n"
          ]
        }
      ]
    },
    {
      "cell_type": "markdown",
      "source": [
        "###floor operator"
      ],
      "metadata": {
        "id": "l6X1-y2ma3iB"
      }
    },
    {
      "cell_type": "code",
      "source": [
        "print(13//4)\n",
        "#rounds down to nearest whole number"
      ],
      "metadata": {
        "colab": {
          "base_uri": "https://localhost:8080/"
        },
        "id": "6rIqI_joa6o6",
        "outputId": "e0a8c967-c4b9-43bf-ddf1-d83f2b6dbc25"
      },
      "execution_count": 144,
      "outputs": [
        {
          "output_type": "stream",
          "name": "stdout",
          "text": [
            "3\n"
          ]
        }
      ]
    },
    {
      "cell_type": "markdown",
      "source": [
        "###assignment operators"
      ],
      "metadata": {
        "id": "9Lh0UH_BbShm"
      }
    },
    {
      "cell_type": "code",
      "source": [
        "x = 9\n",
        "#assign 9 to x"
      ],
      "metadata": {
        "id": "FzBNbSVUbu3K"
      },
      "execution_count": 145,
      "outputs": []
    },
    {
      "cell_type": "code",
      "source": [
        "x += 1\n",
        "x -= 1\n",
        "x *= 1\n",
        "x /= 1\n",
        "#same thing as x = x operator 1"
      ],
      "metadata": {
        "id": "QMakWqGrbxeU"
      },
      "execution_count": 146,
      "outputs": []
    },
    {
      "cell_type": "code",
      "source": [
        "num1 = 2\n",
        "num2 = 3\n",
        "print(str(num1+num2))"
      ],
      "metadata": {
        "colab": {
          "base_uri": "https://localhost:8080/"
        },
        "id": "LXJcxyQjb_cg",
        "outputId": "0be88081-eb0b-4669-8dc5-25bd239c5cd8"
      },
      "execution_count": 147,
      "outputs": [
        {
          "output_type": "stream",
          "name": "stdout",
          "text": [
            "5\n"
          ]
        }
      ]
    },
    {
      "cell_type": "markdown",
      "source": [
        "###comparison operators"
      ],
      "metadata": {
        "id": "u8hPFzhuce6D"
      }
    },
    {
      "cell_type": "code",
      "source": [
        "x, y = 9, 25\n",
        "#assign ints to x and y"
      ],
      "metadata": {
        "id": "hxKy-spluiJd"
      },
      "execution_count": 148,
      "outputs": []
    },
    {
      "cell_type": "code",
      "source": [
        "print (x == y)\n",
        "#print if x equals y"
      ],
      "metadata": {
        "colab": {
          "base_uri": "https://localhost:8080/"
        },
        "id": "bxXdjJ2oulPH",
        "outputId": "20b3b4f2-e8ea-4742-eac1-5e678a59386b"
      },
      "execution_count": 149,
      "outputs": [
        {
          "output_type": "stream",
          "name": "stdout",
          "text": [
            "False\n"
          ]
        }
      ]
    },
    {
      "cell_type": "code",
      "source": [
        "print (x != y)\n",
        "#print if x is not equal to y"
      ],
      "metadata": {
        "colab": {
          "base_uri": "https://localhost:8080/"
        },
        "id": "ovNh5IQOuov1",
        "outputId": "35c3d23d-c439-41ce-abc9-4f4a24726869"
      },
      "execution_count": 150,
      "outputs": [
        {
          "output_type": "stream",
          "name": "stdout",
          "text": [
            "True\n"
          ]
        }
      ]
    },
    {
      "cell_type": "code",
      "source": [
        "print ((x>y),(x<y),(x>=y),(x<=y))\n",
        "#print greater than, less than, greater than or equal to, less than or equal to"
      ],
      "metadata": {
        "colab": {
          "base_uri": "https://localhost:8080/"
        },
        "id": "WFD9DTmxutrq",
        "outputId": "05722e65-babc-459c-a3d0-3f1b0a9ed9eb"
      },
      "execution_count": 152,
      "outputs": [
        {
          "output_type": "stream",
          "name": "stdout",
          "text": [
            "False True False True\n"
          ]
        }
      ]
    },
    {
      "cell_type": "markdown",
      "source": [
        "###logical operators"
      ],
      "metadata": {
        "id": "FXY6Choeu4WS"
      }
    },
    {
      "cell_type": "code",
      "source": [
        "x, y = 9, 25\n",
        "#assign ints to x and y"
      ],
      "metadata": {
        "id": "NoP8urPtwxXD"
      },
      "execution_count": 154,
      "outputs": []
    },
    {
      "cell_type": "code",
      "source": [
        "print (x > 5 and y < 30)\n",
        "#true if both are true"
      ],
      "metadata": {
        "colab": {
          "base_uri": "https://localhost:8080/"
        },
        "id": "zxKpx_EQwylB",
        "outputId": "e92ef56b-acb5-436b-d308-7248bad559f7"
      },
      "execution_count": 155,
      "outputs": [
        {
          "output_type": "stream",
          "name": "stdout",
          "text": [
            "True\n"
          ]
        }
      ]
    },
    {
      "cell_type": "code",
      "source": [
        "print ( x > 5 or y > 30)\n",
        "#false if both are false"
      ],
      "metadata": {
        "colab": {
          "base_uri": "https://localhost:8080/"
        },
        "id": "n8PIpJBIw6ek",
        "outputId": "a667dc12-f2e6-401f-8519-463f7e19f328"
      },
      "execution_count": 156,
      "outputs": [
        {
          "output_type": "stream",
          "name": "stdout",
          "text": [
            "True\n"
          ]
        }
      ]
    },
    {
      "cell_type": "code",
      "source": [
        "print(not(x>5))\n",
        "#gives the opposite"
      ],
      "metadata": {
        "colab": {
          "base_uri": "https://localhost:8080/"
        },
        "id": "quD2r0qNxle6",
        "outputId": "4b229e08-6e9b-4c0e-98ae-e712f632537d"
      },
      "execution_count": 158,
      "outputs": [
        {
          "output_type": "stream",
          "name": "stdout",
          "text": [
            "False\n"
          ]
        }
      ]
    },
    {
      "cell_type": "code",
      "source": [
        "print(\"cat\" is \"cat\")\n",
        "#same as\n",
        "print(\"cat\" == \"cat\")"
      ],
      "metadata": {
        "colab": {
          "base_uri": "https://localhost:8080/"
        },
        "id": "zih-K39Pxss_",
        "outputId": "d43721a1-b9e6-44a1-c51c-9a7dd08060c9"
      },
      "execution_count": 160,
      "outputs": [
        {
          "output_type": "stream",
          "name": "stdout",
          "text": [
            "True\n",
            "True\n"
          ]
        },
        {
          "output_type": "stream",
          "name": "stderr",
          "text": [
            "<>:1: SyntaxWarning: \"is\" with a literal. Did you mean \"==\"?\n",
            "<>:1: SyntaxWarning: \"is\" with a literal. Did you mean \"==\"?\n",
            "<ipython-input-160-ea7333730169>:1: SyntaxWarning: \"is\" with a literal. Did you mean \"==\"?\n",
            "  print(\"cat\" is \"cat\")\n"
          ]
        }
      ]
    },
    {
      "cell_type": "code",
      "source": [
        "fruit = \"banana\"\n",
        "print(\"na\" in fruit)\n",
        "print(\"na\" not in fruit)\n",
        "#prints if something is in another container"
      ],
      "metadata": {
        "colab": {
          "base_uri": "https://localhost:8080/"
        },
        "id": "1IIJ7mNBx30t",
        "outputId": "23ff640c-17fc-4609-bf49-5988163f1b6e"
      },
      "execution_count": 161,
      "outputs": [
        {
          "output_type": "stream",
          "name": "stdout",
          "text": [
            "True\n",
            "False\n"
          ]
        }
      ]
    },
    {
      "cell_type": "markdown",
      "source": [
        "#Collection Data Types"
      ],
      "metadata": {
        "id": "d0HCZIkXy08f"
      }
    },
    {
      "cell_type": "markdown",
      "source": [
        "##Lists"
      ],
      "metadata": {
        "id": "KMjQRpInzHvt"
      }
    },
    {
      "cell_type": "code",
      "source": [
        "numbers = [3, 7, 5, 4, 6, 4, 3, 3]\n",
        "print (numbers)\n",
        "print(numbers[1])\n",
        "print(numbers[-1])\n",
        "#list of numbers\n",
        "#print list, second, and last element"
      ],
      "metadata": {
        "colab": {
          "base_uri": "https://localhost:8080/"
        },
        "id": "a8zAeKXPzLHH",
        "outputId": "7ff75901-157f-4bfb-d55a-0b56944a7f05"
      },
      "execution_count": 162,
      "outputs": [
        {
          "output_type": "stream",
          "name": "stdout",
          "text": [
            "[3, 7, 5, 4, 6, 4, 3, 3]\n",
            "7\n",
            "3\n"
          ]
        }
      ]
    },
    {
      "cell_type": "code",
      "source": [
        "names = [\"alice\", \"bob\", \"carol\", \"dean\"]\n",
        "print(names[0])\n",
        "print(names[1])\n",
        "#list of string\n",
        "#print first and second string"
      ],
      "metadata": {
        "colab": {
          "base_uri": "https://localhost:8080/"
        },
        "id": "khKoI1pfzaSo",
        "outputId": "e4a76e4c-fbfa-4990-8ff6-fe4a2a6608b7"
      },
      "execution_count": 165,
      "outputs": [
        {
          "output_type": "stream",
          "name": "stdout",
          "text": [
            "alice\n",
            "bob\n"
          ]
        }
      ]
    },
    {
      "cell_type": "code",
      "source": [
        "print(names[0][1])\n",
        "#print second character or first string"
      ],
      "metadata": {
        "colab": {
          "base_uri": "https://localhost:8080/"
        },
        "id": "bIa3TdvQzk-v",
        "outputId": "7bb683d7-b286-441e-ce45-c6b8c60cd4d7"
      },
      "execution_count": 164,
      "outputs": [
        {
          "output_type": "stream",
          "name": "stdout",
          "text": [
            "l\n"
          ]
        }
      ]
    },
    {
      "cell_type": "code",
      "source": [
        "print(names[1:3])\n",
        "#print index 1 and 2\n",
        "#does not include number after :"
      ],
      "metadata": {
        "colab": {
          "base_uri": "https://localhost:8080/"
        },
        "id": "pN1t6pqBzpWq",
        "outputId": "9707c853-7e80-48ae-e3c1-fdcf0469a362"
      },
      "execution_count": 167,
      "outputs": [
        {
          "output_type": "stream",
          "name": "stdout",
          "text": [
            "['bob', 'carol']\n"
          ]
        }
      ]
    },
    {
      "cell_type": "code",
      "source": [
        "print(names[0:])\n",
        "#prints everything after number before :"
      ],
      "metadata": {
        "colab": {
          "base_uri": "https://localhost:8080/"
        },
        "id": "l0H8sRe6z1Oy",
        "outputId": "0004b26f-706c-4cc5-fa11-2780c674ef09"
      },
      "execution_count": 168,
      "outputs": [
        {
          "output_type": "stream",
          "name": "stdout",
          "text": [
            "['alice', 'bob', 'carol', 'dean']\n"
          ]
        }
      ]
    },
    {
      "cell_type": "code",
      "source": [
        "names[1] = 'billy'\n",
        "print(names)\n",
        "#strings are immutable, so string[2] would not work\n",
        "#lists are immutable, so names[1] = 'billy' would"
      ],
      "metadata": {
        "colab": {
          "base_uri": "https://localhost:8080/"
        },
        "id": "T-NKfNtK0GN_",
        "outputId": "ef180c59-58ae-4a8a-f5e2-89f0ae68eff0"
      },
      "execution_count": 169,
      "outputs": [
        {
          "output_type": "stream",
          "name": "stdout",
          "text": [
            "['alice', 'billy', 'carol', 'dean']\n"
          ]
        }
      ]
    },
    {
      "cell_type": "code",
      "source": [
        "list = []\n",
        "for x in range(10):\n",
        "    #list.append(input(f\"Enter item {x+1}: \"))\n",
        "    list.append(x)\n",
        "print(list)\n",
        "#asks user for 10 items and prints a list of them out"
      ],
      "metadata": {
        "colab": {
          "base_uri": "https://localhost:8080/"
        },
        "id": "mOqL3gE81tis",
        "outputId": "221578a9-0e30-4a46-a5e1-5092afb7fc2f"
      },
      "execution_count": 173,
      "outputs": [
        {
          "output_type": "stream",
          "name": "stdout",
          "text": [
            "[0, 1, 2, 3, 4, 5, 6, 7, 8, 9]\n"
          ]
        }
      ]
    },
    {
      "cell_type": "code",
      "source": [
        "5"
      ],
      "metadata": {
        "id": "2KrqNrmd36fT"
      },
      "execution_count": null,
      "outputs": []
    }
  ]
}
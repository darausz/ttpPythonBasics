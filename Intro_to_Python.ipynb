{
  "nbformat": 4,
  "nbformat_minor": 0,
  "metadata": {
    "colab": {
      "provenance": [],
      "toc_visible": true,
      "authorship_tag": "ABX9TyO6AZSoS+Mfx4IsJEtejqjr",
      "include_colab_link": true
    },
    "kernelspec": {
      "name": "python3",
      "display_name": "Python 3"
    },
    "language_info": {
      "name": "python"
    }
  },
  "cells": [
    {
      "cell_type": "markdown",
      "metadata": {
        "id": "view-in-github",
        "colab_type": "text"
      },
      "source": [
        "<a href=\"https://colab.research.google.com/github/dareaus/TTP23/blob/main/Intro_to_Python.ipynb\" target=\"_parent\"><img src=\"https://colab.research.google.com/assets/colab-badge.svg\" alt=\"Open In Colab\"/></a>"
      ]
    },
    {
      "cell_type": "markdown",
      "source": [
        "#Python Basics"
      ],
      "metadata": {
        "id": "dD4udrOGHkwp"
      }
    },
    {
      "cell_type": "code",
      "source": [
        "print(\"hi there\")\n",
        "#use the print() method to print \"hi there\" to the user"
      ],
      "metadata": {
        "colab": {
          "base_uri": "https://localhost:8080/"
        },
        "id": "9ihOETx6ImAQ",
        "outputId": "6c364a36-5815-402b-83f6-d540d8dc0d57"
      },
      "execution_count": null,
      "outputs": [
        {
          "output_type": "stream",
          "name": "stdout",
          "text": [
            "hi there\n"
          ]
        }
      ]
    },
    {
      "cell_type": "code",
      "source": [
        "print(\"there are two types of slashes:\\\\ and /\")\n",
        "#\\ is an esape character so only one is printed"
      ],
      "metadata": {
        "colab": {
          "base_uri": "https://localhost:8080/"
        },
        "id": "eD-z1TVxImGB",
        "outputId": "957a6d2a-80b2-4095-c7e5-36bb4dd24ad3"
      },
      "execution_count": null,
      "outputs": [
        {
          "output_type": "stream",
          "name": "stdout",
          "text": [
            "there are two types of slashes:\\ and /\n"
          ]
        }
      ]
    },
    {
      "cell_type": "code",
      "source": [
        "print(\"\\n\\tthis is a tabbled line\\nthis is a regular line\")\n",
        "#\\n is new line, \\t is indent"
      ],
      "metadata": {
        "colab": {
          "base_uri": "https://localhost:8080/"
        },
        "id": "XTD559ZgImIs",
        "outputId": "1776095c-4b7c-47f0-cf12-79298b38c820"
      },
      "execution_count": null,
      "outputs": [
        {
          "output_type": "stream",
          "name": "stdout",
          "text": [
            "\n",
            "\tthis is a tabbled line\n",
            "this is a regular line\n"
          ]
        }
      ]
    },
    {
      "cell_type": "code",
      "source": [
        "print(\"first name\" + \" last name\")\n",
        "#+ lets you combine strings"
      ],
      "metadata": {
        "colab": {
          "base_uri": "https://localhost:8080/"
        },
        "id": "5Nm0_HCbImL4",
        "outputId": "f2bad8b2-6f9c-434c-fd0e-06114ae8a0d5"
      },
      "execution_count": null,
      "outputs": [
        {
          "output_type": "stream",
          "name": "stdout",
          "text": [
            "first name last name\n"
          ]
        }
      ]
    },
    {
      "cell_type": "markdown",
      "source": [
        "#Variables"
      ],
      "metadata": {
        "id": "nn67aLVvLXbc"
      }
    },
    {
      "cell_type": "code",
      "source": [
        "dogs = 3\n",
        "cats = \"many fluffy cats\"\n",
        "#no type declaration is needed"
      ],
      "metadata": {
        "id": "CdZvfaW3LgZJ"
      },
      "execution_count": null,
      "outputs": []
    },
    {
      "cell_type": "code",
      "source": [
        "dogs\n",
        "#output value of dogs"
      ],
      "metadata": {
        "colab": {
          "base_uri": "https://localhost:8080/"
        },
        "id": "JiE65VJhLgbl",
        "outputId": "cb131275-bfff-4553-d405-4bc38a734ebb"
      },
      "execution_count": null,
      "outputs": [
        {
          "output_type": "execute_result",
          "data": {
            "text/plain": [
              "3"
            ]
          },
          "metadata": {},
          "execution_count": 88
        }
      ]
    },
    {
      "cell_type": "code",
      "source": [
        "cats\n",
        "#output value of cats"
      ],
      "metadata": {
        "colab": {
          "base_uri": "https://localhost:8080/",
          "height": 35
        },
        "id": "rVx7_2ybLgfP",
        "outputId": "530e7fd4-715a-46ab-d428-49b4894ada1e"
      },
      "execution_count": null,
      "outputs": [
        {
          "output_type": "execute_result",
          "data": {
            "text/plain": [
              "'many fluffy cats'"
            ],
            "application/vnd.google.colaboratory.intrinsic+json": {
              "type": "string"
            }
          },
          "metadata": {},
          "execution_count": 89
        }
      ]
    },
    {
      "cell_type": "code",
      "source": [
        "type(dogs)\n",
        "#type of dogs is int"
      ],
      "metadata": {
        "colab": {
          "base_uri": "https://localhost:8080/"
        },
        "id": "LOSDLwIAMOwZ",
        "outputId": "d589bb20-2308-4230-b742-6888dc17483e"
      },
      "execution_count": null,
      "outputs": [
        {
          "output_type": "execute_result",
          "data": {
            "text/plain": [
              "int"
            ]
          },
          "metadata": {},
          "execution_count": 90
        }
      ]
    },
    {
      "cell_type": "code",
      "source": [
        "type(cats)\n",
        "#type of cats is string"
      ],
      "metadata": {
        "colab": {
          "base_uri": "https://localhost:8080/"
        },
        "id": "W4QxUtN6MRJo",
        "outputId": "7f84c5a4-d6c7-4b84-8c15-6e00c1a3ecdb"
      },
      "execution_count": null,
      "outputs": [
        {
          "output_type": "execute_result",
          "data": {
            "text/plain": [
              "str"
            ]
          },
          "metadata": {},
          "execution_count": 91
        }
      ]
    },
    {
      "cell_type": "code",
      "source": [
        "hi = \"hello\"\n",
        "name = \" john\"\n",
        "print(hi + name)\n",
        "#different types cannot be concatenated"
      ],
      "metadata": {
        "colab": {
          "base_uri": "https://localhost:8080/"
        },
        "id": "k5Wa_LDcMTUg",
        "outputId": "8ce6efe6-2873-4d9b-e58e-19be40efd020"
      },
      "execution_count": null,
      "outputs": [
        {
          "output_type": "stream",
          "name": "stdout",
          "text": [
            "hello john\n"
          ]
        }
      ]
    },
    {
      "cell_type": "code",
      "source": [
        "moreDogs = 5\n",
        "print(dogs + moreDogs)\n",
        "#int variables can be added"
      ],
      "metadata": {
        "colab": {
          "base_uri": "https://localhost:8080/"
        },
        "id": "3HqlwXYOMrz2",
        "outputId": "6de97118-87e9-454d-92b3-cd9fdf80c5f6"
      },
      "execution_count": null,
      "outputs": [
        {
          "output_type": "stream",
          "name": "stdout",
          "text": [
            "8\n"
          ]
        }
      ]
    },
    {
      "cell_type": "code",
      "source": [
        "price = 19.99\n",
        "amount = 3"
      ],
      "metadata": {
        "id": "XMyOKfMvM1pb"
      },
      "execution_count": null,
      "outputs": []
    },
    {
      "cell_type": "code",
      "source": [
        "print(price * amount)\n",
        "#int variables can have math operations done on them"
      ],
      "metadata": {
        "colab": {
          "base_uri": "https://localhost:8080/"
        },
        "id": "fx0-6EKKM5oW",
        "outputId": "5b1be084-55e9-4ef9-9ece-18125a09e167"
      },
      "execution_count": null,
      "outputs": [
        {
          "output_type": "stream",
          "name": "stdout",
          "text": [
            "59.97\n"
          ]
        }
      ]
    },
    {
      "cell_type": "code",
      "source": [
        "#Variable Re-assignment\n",
        "dogs = \"new value\"\n",
        "print(dogs)\n",
        "#variables can be re-assigned with different types"
      ],
      "metadata": {
        "colab": {
          "base_uri": "https://localhost:8080/"
        },
        "id": "XlpWGZGLM8MO",
        "outputId": "0dc7913e-aad0-42a8-976a-c7f70c12159e"
      },
      "execution_count": null,
      "outputs": [
        {
          "output_type": "stream",
          "name": "stdout",
          "text": [
            "new value\n"
          ]
        }
      ]
    },
    {
      "cell_type": "code",
      "source": [
        "cats, dogs, rabbits = 2, 5, 'cute'\n",
        "#multiple variables can be assigned at once"
      ],
      "metadata": {
        "id": "-TXaSeNeNNiU"
      },
      "execution_count": null,
      "outputs": []
    },
    {
      "cell_type": "code",
      "source": [
        "print(dogs)\n",
        "#print dogs"
      ],
      "metadata": {
        "colab": {
          "base_uri": "https://localhost:8080/"
        },
        "id": "yM75WhovNm1x",
        "outputId": "fc0b0199-e218-4bda-a0ed-610be15a4e97"
      },
      "execution_count": null,
      "outputs": [
        {
          "output_type": "stream",
          "name": "stdout",
          "text": [
            "5\n"
          ]
        }
      ]
    },
    {
      "cell_type": "markdown",
      "source": [
        "#More Strings"
      ],
      "metadata": {
        "id": "lFhX6pLlNok1"
      }
    },
    {
      "cell_type": "markdown",
      "source": [
        "##Indexing"
      ],
      "metadata": {
        "id": "rDNUjIjpNrxS"
      }
    },
    {
      "cell_type": "code",
      "source": [
        "greeting = 'hello world!'\n",
        "#assign string to greeting"
      ],
      "metadata": {
        "id": "nY_NcD86Nuuq"
      },
      "execution_count": null,
      "outputs": []
    },
    {
      "cell_type": "code",
      "source": [
        "greeting\n",
        "#print string in greeting"
      ],
      "metadata": {
        "colab": {
          "base_uri": "https://localhost:8080/",
          "height": 35
        },
        "id": "V-VEM1e5N6R4",
        "outputId": "e45b204d-9436-454d-8461-af9d2aa3c5e2"
      },
      "execution_count": null,
      "outputs": [
        {
          "output_type": "execute_result",
          "data": {
            "text/plain": [
              "'hello world!'"
            ],
            "application/vnd.google.colaboratory.intrinsic+json": {
              "type": "string"
            }
          },
          "metadata": {},
          "execution_count": 100
        }
      ]
    },
    {
      "cell_type": "code",
      "source": [
        "print(greeting[4])\n",
        "#print 5th character in greeting"
      ],
      "metadata": {
        "colab": {
          "base_uri": "https://localhost:8080/"
        },
        "id": "js-xir9uN66f",
        "outputId": "4f8f7e6b-b3ec-4ddf-988f-dbcc01d54cf1"
      },
      "execution_count": null,
      "outputs": [
        {
          "output_type": "stream",
          "name": "stdout",
          "text": [
            "o\n"
          ]
        }
      ]
    },
    {
      "cell_type": "code",
      "source": [
        "newString = 'this is a sentence'\n",
        "print(newString[3])\n",
        "print(newString[5])\n",
        "#print characters 4 and 6"
      ],
      "metadata": {
        "colab": {
          "base_uri": "https://localhost:8080/"
        },
        "id": "OJ71BzaWN8oB",
        "outputId": "60ba36e4-543d-4c8e-b498-38132177021f"
      },
      "execution_count": null,
      "outputs": [
        {
          "output_type": "stream",
          "name": "stdout",
          "text": [
            "s\n",
            "i\n"
          ]
        }
      ]
    },
    {
      "cell_type": "code",
      "source": [
        "len(greeting)\n",
        "#get length of string"
      ],
      "metadata": {
        "colab": {
          "base_uri": "https://localhost:8080/"
        },
        "id": "yPPUvhQeOdXR",
        "outputId": "5e37d6cb-c0cb-46eb-f394-4798484b0b4b"
      },
      "execution_count": null,
      "outputs": [
        {
          "output_type": "execute_result",
          "data": {
            "text/plain": [
              "12"
            ]
          },
          "metadata": {},
          "execution_count": 103
        }
      ]
    },
    {
      "cell_type": "code",
      "source": [
        "greeting[11]\n",
        "#get last character in greeting"
      ],
      "metadata": {
        "colab": {
          "base_uri": "https://localhost:8080/",
          "height": 35
        },
        "id": "ZDK4VW32PaBg",
        "outputId": "48e899c3-36f6-4afa-da1b-c1c652586d7b"
      },
      "execution_count": null,
      "outputs": [
        {
          "output_type": "execute_result",
          "data": {
            "text/plain": [
              "'!'"
            ],
            "application/vnd.google.colaboratory.intrinsic+json": {
              "type": "string"
            }
          },
          "metadata": {},
          "execution_count": 104
        }
      ]
    },
    {
      "cell_type": "code",
      "source": [
        "greeting[-1]\n",
        "#get last character in greeting"
      ],
      "metadata": {
        "colab": {
          "base_uri": "https://localhost:8080/",
          "height": 35
        },
        "id": "PYsL0aqJPeHX",
        "outputId": "b260c986-9a30-4e8b-9740-3d39444b67e0"
      },
      "execution_count": null,
      "outputs": [
        {
          "output_type": "execute_result",
          "data": {
            "text/plain": [
              "'!'"
            ],
            "application/vnd.google.colaboratory.intrinsic+json": {
              "type": "string"
            }
          },
          "metadata": {},
          "execution_count": 105
        }
      ]
    },
    {
      "cell_type": "markdown",
      "source": [
        "##String Formatting"
      ],
      "metadata": {
        "id": "x4AHgGdmPhB5"
      }
    },
    {
      "cell_type": "code",
      "source": [
        "price = 59.99\n",
        "#set int to price"
      ],
      "metadata": {
        "id": "JQjVzNwkP_Ki"
      },
      "execution_count": null,
      "outputs": []
    },
    {
      "cell_type": "code",
      "source": [
        "message = 'the product costs ' + str(price) + ' dollars'\n",
        "#convert price from int to string to concatenate"
      ],
      "metadata": {
        "id": "fPKTbI4AQBK7"
      },
      "execution_count": null,
      "outputs": []
    },
    {
      "cell_type": "code",
      "source": [
        "message\n",
        "#print message"
      ],
      "metadata": {
        "colab": {
          "base_uri": "https://localhost:8080/",
          "height": 35
        },
        "id": "dolLiuZkQHPI",
        "outputId": "ab604e76-8fd7-493d-d1f0-45c13d7ef3bb"
      },
      "execution_count": null,
      "outputs": [
        {
          "output_type": "execute_result",
          "data": {
            "text/plain": [
              "'the product costs 59.99 dollars'"
            ],
            "application/vnd.google.colaboratory.intrinsic+json": {
              "type": "string"
            }
          },
          "metadata": {},
          "execution_count": 108
        }
      ]
    },
    {
      "cell_type": "markdown",
      "source": [
        "###`.format()` method"
      ],
      "metadata": {
        "id": "g1PsYX0GRN9j"
      }
    },
    {
      "cell_type": "code",
      "source": [
        "msg = 'the product costs {} dollars'.format(price)\n",
        "#puts price into {}"
      ],
      "metadata": {
        "id": "OqIFU37FQc4f"
      },
      "execution_count": null,
      "outputs": []
    },
    {
      "cell_type": "code",
      "source": [
        "msg\n",
        "#print msg"
      ],
      "metadata": {
        "colab": {
          "base_uri": "https://localhost:8080/",
          "height": 35
        },
        "id": "J_q0bb7GQusy",
        "outputId": "92c9aa29-abd9-40ac-cf5a-46e1ce5af384"
      },
      "execution_count": null,
      "outputs": [
        {
          "output_type": "execute_result",
          "data": {
            "text/plain": [
              "'the product costs 59.99 dollars'"
            ],
            "application/vnd.google.colaboratory.intrinsic+json": {
              "type": "string"
            }
          },
          "metadata": {},
          "execution_count": 110
        }
      ]
    },
    {
      "cell_type": "code",
      "source": [
        "msg2 = 'for {} products at the price of {}, the total will be: {}'\n",
        "#multiple {} can be used"
      ],
      "metadata": {
        "id": "1Lce7dWKQzIO"
      },
      "execution_count": null,
      "outputs": []
    },
    {
      "cell_type": "code",
      "source": [
        "amount = 3\n",
        "total = amount * price\n",
        "#set amount and total variables"
      ],
      "metadata": {
        "id": "SFun6jiKRd9v"
      },
      "execution_count": null,
      "outputs": []
    },
    {
      "cell_type": "code",
      "source": [
        "print(msg2.format(amount, price, total))\n",
        "#print msg2 with the 3 variables, shows them in order"
      ],
      "metadata": {
        "colab": {
          "base_uri": "https://localhost:8080/"
        },
        "id": "QGK_9KKERtn9",
        "outputId": "1acad0ee-6f88-42d0-a1ee-e24ef800ad95"
      },
      "execution_count": null,
      "outputs": [
        {
          "output_type": "stream",
          "name": "stdout",
          "text": [
            "for 3 products at the price of 59.99, the total will be: 179.97\n"
          ]
        }
      ]
    },
    {
      "cell_type": "code",
      "source": [
        "msg3 = 'for {2} products at the price of {0}. the total is {1}'\n",
        "#assign the order for msg3"
      ],
      "metadata": {
        "id": "PFmwym3rR0P6"
      },
      "execution_count": null,
      "outputs": []
    },
    {
      "cell_type": "code",
      "source": [
        "print(msg3.format(price, total, amount))\n",
        "#print msg3"
      ],
      "metadata": {
        "colab": {
          "base_uri": "https://localhost:8080/"
        },
        "id": "SbXptxWSSjvd",
        "outputId": "501af2c2-2f69-4132-ac93-3fb9af9833e8"
      },
      "execution_count": null,
      "outputs": [
        {
          "output_type": "stream",
          "name": "stdout",
          "text": [
            "for 3 products at the price of 59.99. the total is 179.97\n"
          ]
        }
      ]
    },
    {
      "cell_type": "markdown",
      "source": [
        "###f-string method"
      ],
      "metadata": {
        "id": "X_gHOZfcSqYQ"
      }
    },
    {
      "cell_type": "code",
      "source": [
        "price = 19.99\n",
        "items = 3\n",
        "#assign ints to price and items"
      ],
      "metadata": {
        "id": "i5CiwPwBTLZt"
      },
      "execution_count": null,
      "outputs": []
    },
    {
      "cell_type": "code",
      "source": [
        "msg = f'this individual product is {price}'\n",
        "#alternative format for {}"
      ],
      "metadata": {
        "id": "VAiWm4VKTKIn"
      },
      "execution_count": null,
      "outputs": []
    },
    {
      "cell_type": "code",
      "source": [
        "msg\n",
        "#print msg"
      ],
      "metadata": {
        "colab": {
          "base_uri": "https://localhost:8080/",
          "height": 35
        },
        "id": "1Uyv798qTVpg",
        "outputId": "d342d7af-72fe-4e39-956b-fd3ce0a6b9db"
      },
      "execution_count": null,
      "outputs": [
        {
          "output_type": "execute_result",
          "data": {
            "text/plain": [
              "'this individual product is 19.99'"
            ],
            "application/vnd.google.colaboratory.intrinsic+json": {
              "type": "string"
            }
          },
          "metadata": {},
          "execution_count": 118
        }
      ]
    },
    {
      "cell_type": "code",
      "source": [
        "msg2 = f\"the total for your purchase is {price * items}\"\n",
        "#multiple {} for alternative format"
      ],
      "metadata": {
        "id": "1wG5T85UTW7L"
      },
      "execution_count": null,
      "outputs": []
    },
    {
      "cell_type": "code",
      "source": [
        "msg2\n",
        "#print msg2"
      ],
      "metadata": {
        "colab": {
          "base_uri": "https://localhost:8080/",
          "height": 35
        },
        "id": "-5pqRj4-Tjxl",
        "outputId": "7f1906f9-c18b-41c1-f3a7-4709aa104833"
      },
      "execution_count": null,
      "outputs": [
        {
          "output_type": "execute_result",
          "data": {
            "text/plain": [
              "'the total for your purchase is 59.97'"
            ],
            "application/vnd.google.colaboratory.intrinsic+json": {
              "type": "string"
            }
          },
          "metadata": {},
          "execution_count": 120
        }
      ]
    },
    {
      "cell_type": "markdown",
      "source": [
        "###string functions"
      ],
      "metadata": {
        "id": "nuLfzVJxJE9I"
      }
    },
    {
      "cell_type": "code",
      "source": [
        "dir(msg)\n",
        "#show available functions for objects"
      ],
      "metadata": {
        "colab": {
          "base_uri": "https://localhost:8080/"
        },
        "id": "LDbUzHoKJOuB",
        "outputId": "cc7d6bb8-ff6b-452c-cdc1-684147e418c1"
      },
      "execution_count": null,
      "outputs": [
        {
          "output_type": "execute_result",
          "data": {
            "text/plain": [
              "['__add__',\n",
              " '__class__',\n",
              " '__contains__',\n",
              " '__delattr__',\n",
              " '__dir__',\n",
              " '__doc__',\n",
              " '__eq__',\n",
              " '__format__',\n",
              " '__ge__',\n",
              " '__getattribute__',\n",
              " '__getitem__',\n",
              " '__getnewargs__',\n",
              " '__gt__',\n",
              " '__hash__',\n",
              " '__init__',\n",
              " '__init_subclass__',\n",
              " '__iter__',\n",
              " '__le__',\n",
              " '__len__',\n",
              " '__lt__',\n",
              " '__mod__',\n",
              " '__mul__',\n",
              " '__ne__',\n",
              " '__new__',\n",
              " '__reduce__',\n",
              " '__reduce_ex__',\n",
              " '__repr__',\n",
              " '__rmod__',\n",
              " '__rmul__',\n",
              " '__setattr__',\n",
              " '__sizeof__',\n",
              " '__str__',\n",
              " '__subclasshook__',\n",
              " 'capitalize',\n",
              " 'casefold',\n",
              " 'center',\n",
              " 'count',\n",
              " 'encode',\n",
              " 'endswith',\n",
              " 'expandtabs',\n",
              " 'find',\n",
              " 'format',\n",
              " 'format_map',\n",
              " 'index',\n",
              " 'isalnum',\n",
              " 'isalpha',\n",
              " 'isascii',\n",
              " 'isdecimal',\n",
              " 'isdigit',\n",
              " 'isidentifier',\n",
              " 'islower',\n",
              " 'isnumeric',\n",
              " 'isprintable',\n",
              " 'isspace',\n",
              " 'istitle',\n",
              " 'isupper',\n",
              " 'join',\n",
              " 'ljust',\n",
              " 'lower',\n",
              " 'lstrip',\n",
              " 'maketrans',\n",
              " 'partition',\n",
              " 'removeprefix',\n",
              " 'removesuffix',\n",
              " 'replace',\n",
              " 'rfind',\n",
              " 'rindex',\n",
              " 'rjust',\n",
              " 'rpartition',\n",
              " 'rsplit',\n",
              " 'rstrip',\n",
              " 'split',\n",
              " 'splitlines',\n",
              " 'startswith',\n",
              " 'strip',\n",
              " 'swapcase',\n",
              " 'title',\n",
              " 'translate',\n",
              " 'upper',\n",
              " 'zfill']"
            ]
          },
          "metadata": {},
          "execution_count": 121
        }
      ]
    },
    {
      "cell_type": "code",
      "source": [
        "msg\n",
        "#print msg"
      ],
      "metadata": {
        "colab": {
          "base_uri": "https://localhost:8080/",
          "height": 35
        },
        "id": "mUWZpZAoJeMe",
        "outputId": "5bdc8337-3060-453f-f927-7f80a842c80f"
      },
      "execution_count": null,
      "outputs": [
        {
          "output_type": "execute_result",
          "data": {
            "text/plain": [
              "'this individual product is 19.99'"
            ],
            "application/vnd.google.colaboratory.intrinsic+json": {
              "type": "string"
            }
          },
          "metadata": {},
          "execution_count": 122
        }
      ]
    },
    {
      "cell_type": "code",
      "source": [
        "msg = \"hello my name is Bob\"\n",
        "#reassign msg"
      ],
      "metadata": {
        "id": "ETtQJGuUJyLK"
      },
      "execution_count": null,
      "outputs": []
    },
    {
      "cell_type": "code",
      "source": [
        "words = msg.split(\" \")\n",
        "#split string in array with the separator"
      ],
      "metadata": {
        "id": "CywWC6PeJ5Ry"
      },
      "execution_count": null,
      "outputs": []
    },
    {
      "cell_type": "code",
      "source": [
        "print(words)\n",
        "#print words"
      ],
      "metadata": {
        "colab": {
          "base_uri": "https://localhost:8080/"
        },
        "id": "YBZYXHAGJ-6i",
        "outputId": "3e54f839-5945-4918-9600-7567eb981713"
      },
      "execution_count": null,
      "outputs": [
        {
          "output_type": "stream",
          "name": "stdout",
          "text": [
            "['hello', 'my', 'name', 'is', 'Bob']\n"
          ]
        }
      ]
    },
    {
      "cell_type": "code",
      "source": [
        "elements = msg.split(\"e\")\n",
        "#split message every e"
      ],
      "metadata": {
        "id": "Tln8jeVkKEG1"
      },
      "execution_count": null,
      "outputs": []
    },
    {
      "cell_type": "code",
      "source": [
        "print(elements)\n",
        "#print elements"
      ],
      "metadata": {
        "colab": {
          "base_uri": "https://localhost:8080/"
        },
        "id": "3q6TpZbsKOti",
        "outputId": "8ffca92c-9d58-4562-9b94-617e3c87dd86"
      },
      "execution_count": null,
      "outputs": [
        {
          "output_type": "stream",
          "name": "stdout",
          "text": [
            "['h', 'llo my nam', ' is Bob']\n"
          ]
        }
      ]
    },
    {
      "cell_type": "code",
      "source": [
        "print(msg.upper())\n",
        "#print everything uppercase"
      ],
      "metadata": {
        "colab": {
          "base_uri": "https://localhost:8080/"
        },
        "id": "ed4QjBOpKQO5",
        "outputId": "1a91df89-c32e-4ee7-f171-c8043895b964"
      },
      "execution_count": null,
      "outputs": [
        {
          "output_type": "stream",
          "name": "stdout",
          "text": [
            "HELLO MY NAME IS BOB\n"
          ]
        }
      ]
    },
    {
      "cell_type": "code",
      "source": [
        "print(msg.lower())\n",
        "#print everything lowercase"
      ],
      "metadata": {
        "colab": {
          "base_uri": "https://localhost:8080/"
        },
        "id": "2pMvBQ-lKcoG",
        "outputId": "11366cbd-8181-4f8c-9175-689515e5efb7"
      },
      "execution_count": null,
      "outputs": [
        {
          "output_type": "stream",
          "name": "stdout",
          "text": [
            "hello my name is bob\n"
          ]
        }
      ]
    },
    {
      "cell_type": "markdown",
      "source": [
        "###`input()` method"
      ],
      "metadata": {
        "id": "C2YWzydiKfv8"
      }
    },
    {
      "cell_type": "code",
      "source": [
        "#data = input('what is your name: ')\n",
        "#print(f'Hello {data}')\n",
        "#assign input and print hello with the input"
      ],
      "metadata": {
        "colab": {
          "base_uri": "https://localhost:8080/"
        },
        "id": "AIAIj_gkMpug",
        "outputId": "9f2f555f-4a68-4bb7-bbd9-04dc2296840b"
      },
      "execution_count": null,
      "outputs": [
        {
          "output_type": "stream",
          "name": "stdout",
          "text": [
            "what is your name: Bob\n",
            "Hello Bob\n"
          ]
        }
      ]
    },
    {
      "cell_type": "code",
      "source": [
        "#type(data)\n",
        "#input() gives a string"
      ],
      "metadata": {
        "colab": {
          "base_uri": "https://localhost:8080/"
        },
        "id": "N7j3GF6RNUjF",
        "outputId": "1d91fe18-0247-4b29-d237-d33f0b651df4"
      },
      "execution_count": null,
      "outputs": [
        {
          "output_type": "execute_result",
          "data": {
            "text/plain": [
              "str"
            ]
          },
          "metadata": {},
          "execution_count": 131
        }
      ]
    },
    {
      "cell_type": "code",
      "source": [
        "#print(data)\n",
        "#print data"
      ],
      "metadata": {
        "colab": {
          "base_uri": "https://localhost:8080/"
        },
        "id": "-zb0KhYwMyMj",
        "outputId": "cd205a2d-b748-4c2a-ad93-443d59c4e530"
      },
      "execution_count": null,
      "outputs": [
        {
          "output_type": "stream",
          "name": "stdout",
          "text": [
            "Bob\n"
          ]
        }
      ]
    },
    {
      "cell_type": "code",
      "source": [
        "#num = int(input('enter a number: '))\n",
        "#print(num)\n",
        "#typecast input to int"
      ],
      "metadata": {
        "colab": {
          "base_uri": "https://localhost:8080/"
        },
        "id": "eM2ySG02M2m6",
        "outputId": "bb34fb12-610a-4496-87c2-b5a6ea3c3aca"
      },
      "execution_count": null,
      "outputs": [
        {
          "output_type": "stream",
          "name": "stdout",
          "text": [
            "enter a number: 23\n",
            "23\n"
          ]
        }
      ]
    },
    {
      "cell_type": "code",
      "source": [
        "#type(num)\n",
        "#print type of num"
      ],
      "metadata": {
        "colab": {
          "base_uri": "https://localhost:8080/"
        },
        "id": "qRGsGsKPNlSC",
        "outputId": "83976f1c-b28d-4430-8bb8-8373af21b4ce"
      },
      "execution_count": null,
      "outputs": [
        {
          "output_type": "execute_result",
          "data": {
            "text/plain": [
              "int"
            ]
          },
          "metadata": {},
          "execution_count": 134
        }
      ]
    },
    {
      "cell_type": "code",
      "source": [
        "#Greeting page with a script\n",
        "#name = input('Hey, what is your name? ')\n",
        "#age = input('How old are you? ')\n",
        "#hobby = input('What is your favorite hobby? ')\n",
        "#print(f'Hello {name}, I see that you are {age} years old and you like {hobby}')"
      ],
      "metadata": {
        "colab": {
          "base_uri": "https://localhost:8080/"
        },
        "id": "lV0Yu7h4NobL",
        "outputId": "36a91423-6737-4fd8-c5d9-9ace7e34317c"
      },
      "execution_count": null,
      "outputs": [
        {
          "output_type": "stream",
          "name": "stdout",
          "text": [
            "Hey, what is your name? Bob\n",
            "How old are you? 23\n",
            "What is your favorite hobby? reading\n",
            "Hello Bob, I see that you are 23 years old and you like reading\n"
          ]
        }
      ]
    },
    {
      "cell_type": "markdown",
      "source": [
        "#Numbers"
      ],
      "metadata": {
        "id": "0AxLszzuPRmM"
      }
    },
    {
      "cell_type": "code",
      "source": [
        "cats = 7\n",
        "money = -35.5\n",
        "x = 2+5j\n",
        "message = \"hello alice!\"\n",
        "#asssign variables"
      ],
      "metadata": {
        "id": "CuFpGukEXb-N"
      },
      "execution_count": null,
      "outputs": []
    },
    {
      "cell_type": "code",
      "source": [
        "print (type(cats))\n",
        "print (type(money))\n",
        "print (type(x))\n",
        "print (type(message))\n",
        "#print types"
      ],
      "metadata": {
        "colab": {
          "base_uri": "https://localhost:8080/"
        },
        "id": "0hZPj9cIXtVR",
        "outputId": "03474988-d415-4478-c665-6bdfb188a100"
      },
      "execution_count": null,
      "outputs": [
        {
          "output_type": "stream",
          "name": "stdout",
          "text": [
            "<class 'int'>\n",
            "<class 'float'>\n",
            "<class 'complex'>\n",
            "<class 'str'>\n"
          ]
        }
      ]
    },
    {
      "cell_type": "markdown",
      "source": [
        "##Conversions"
      ],
      "metadata": {
        "id": "tdSyh8HYXyqs"
      }
    },
    {
      "cell_type": "code",
      "source": [
        "value = 3.5\n",
        "convert = int(value)\n",
        "print(convert)\n",
        "print(type(convert))\n",
        "#int loses decimal"
      ],
      "metadata": {
        "colab": {
          "base_uri": "https://localhost:8080/"
        },
        "id": "Us7TAuhfX6pV",
        "outputId": "4f78fc87-6919-498b-da4a-37a30ffabdc7"
      },
      "execution_count": null,
      "outputs": [
        {
          "output_type": "stream",
          "name": "stdout",
          "text": [
            "3\n",
            "<class 'int'>\n"
          ]
        }
      ]
    },
    {
      "cell_type": "code",
      "source": [
        "num = int('25')\n",
        "print(num)\n",
        "print(type(num))\n",
        "#print num and type of num"
      ],
      "metadata": {
        "colab": {
          "base_uri": "https://localhost:8080/"
        },
        "id": "XA4f8GaAYNb1",
        "outputId": "93438af1-4b28-4d49-a9dc-d33f77f14598"
      },
      "execution_count": null,
      "outputs": [
        {
          "output_type": "stream",
          "name": "stdout",
          "text": [
            "25\n",
            "<class 'int'>\n"
          ]
        }
      ]
    },
    {
      "cell_type": "code",
      "source": [
        "num2 = 'twenty'\n",
        "print(len(num2))\n",
        "#print length of num2"
      ],
      "metadata": {
        "colab": {
          "base_uri": "https://localhost:8080/"
        },
        "id": "QLd_lf1aYcg5",
        "outputId": "2f51ff28-e8ab-4893-c6f6-adbfbf44ec10"
      },
      "execution_count": null,
      "outputs": [
        {
          "output_type": "stream",
          "name": "stdout",
          "text": [
            "6\n"
          ]
        }
      ]
    },
    {
      "cell_type": "markdown",
      "source": [
        "##Operators"
      ],
      "metadata": {
        "id": "dMkB4E8tYjM-"
      }
    },
    {
      "cell_type": "markdown",
      "source": [
        "###modulus operator"
      ],
      "metadata": {
        "id": "hbn_8-hoacol"
      }
    },
    {
      "cell_type": "code",
      "source": [
        "print(259/4)\n",
        "#print 259/4"
      ],
      "metadata": {
        "colab": {
          "base_uri": "https://localhost:8080/"
        },
        "id": "Nnmm1II0ajIq",
        "outputId": "4460f7e6-2098-4264-8e1c-84098944f886"
      },
      "execution_count": null,
      "outputs": [
        {
          "output_type": "stream",
          "name": "stdout",
          "text": [
            "64.75\n"
          ]
        }
      ]
    },
    {
      "cell_type": "code",
      "source": [
        "print (259%4)\n",
        "#print remainder of 259/4"
      ],
      "metadata": {
        "colab": {
          "base_uri": "https://localhost:8080/"
        },
        "id": "IJnu4IsmaqHh",
        "outputId": "228e6d68-08d4-4a2f-896b-9d7c93bcae60"
      },
      "execution_count": null,
      "outputs": [
        {
          "output_type": "stream",
          "name": "stdout",
          "text": [
            "3\n"
          ]
        }
      ]
    },
    {
      "cell_type": "markdown",
      "source": [
        "###power operator"
      ],
      "metadata": {
        "id": "-5I4CTBYatVv"
      }
    },
    {
      "cell_type": "code",
      "source": [
        "print(9**4)\n",
        "#print 9 to the fourth power"
      ],
      "metadata": {
        "colab": {
          "base_uri": "https://localhost:8080/"
        },
        "id": "Pnk6FAf_ayl6",
        "outputId": "b9fec535-b4a4-4511-8ffb-d44df87e1c1c"
      },
      "execution_count": null,
      "outputs": [
        {
          "output_type": "stream",
          "name": "stdout",
          "text": [
            "6561\n"
          ]
        }
      ]
    },
    {
      "cell_type": "markdown",
      "source": [
        "###floor operator"
      ],
      "metadata": {
        "id": "l6X1-y2ma3iB"
      }
    },
    {
      "cell_type": "code",
      "source": [
        "print(13//4)\n",
        "#rounds down to nearest whole number"
      ],
      "metadata": {
        "colab": {
          "base_uri": "https://localhost:8080/"
        },
        "id": "6rIqI_joa6o6",
        "outputId": "e0a8c967-c4b9-43bf-ddf1-d83f2b6dbc25"
      },
      "execution_count": null,
      "outputs": [
        {
          "output_type": "stream",
          "name": "stdout",
          "text": [
            "3\n"
          ]
        }
      ]
    },
    {
      "cell_type": "markdown",
      "source": [
        "###assignment operators"
      ],
      "metadata": {
        "id": "9Lh0UH_BbShm"
      }
    },
    {
      "cell_type": "code",
      "source": [
        "x = 9\n",
        "#assign 9 to x"
      ],
      "metadata": {
        "id": "FzBNbSVUbu3K"
      },
      "execution_count": null,
      "outputs": []
    },
    {
      "cell_type": "code",
      "source": [
        "x += 1\n",
        "x -= 1\n",
        "x *= 1\n",
        "x /= 1\n",
        "#same thing as x = x operator 1"
      ],
      "metadata": {
        "id": "QMakWqGrbxeU"
      },
      "execution_count": null,
      "outputs": []
    },
    {
      "cell_type": "code",
      "source": [
        "num1 = 2\n",
        "num2 = 3\n",
        "print(str(num1+num2))"
      ],
      "metadata": {
        "colab": {
          "base_uri": "https://localhost:8080/"
        },
        "id": "LXJcxyQjb_cg",
        "outputId": "0be88081-eb0b-4669-8dc5-25bd239c5cd8"
      },
      "execution_count": null,
      "outputs": [
        {
          "output_type": "stream",
          "name": "stdout",
          "text": [
            "5\n"
          ]
        }
      ]
    },
    {
      "cell_type": "markdown",
      "source": [
        "###comparison operators"
      ],
      "metadata": {
        "id": "u8hPFzhuce6D"
      }
    },
    {
      "cell_type": "code",
      "source": [
        "x, y = 9, 25\n",
        "#assign ints to x and y"
      ],
      "metadata": {
        "id": "hxKy-spluiJd"
      },
      "execution_count": null,
      "outputs": []
    },
    {
      "cell_type": "code",
      "source": [
        "print (x == y)\n",
        "#print if x equals y"
      ],
      "metadata": {
        "colab": {
          "base_uri": "https://localhost:8080/"
        },
        "id": "bxXdjJ2oulPH",
        "outputId": "20b3b4f2-e8ea-4742-eac1-5e678a59386b"
      },
      "execution_count": null,
      "outputs": [
        {
          "output_type": "stream",
          "name": "stdout",
          "text": [
            "False\n"
          ]
        }
      ]
    },
    {
      "cell_type": "code",
      "source": [
        "print (x != y)\n",
        "#print if x is not equal to y"
      ],
      "metadata": {
        "colab": {
          "base_uri": "https://localhost:8080/"
        },
        "id": "ovNh5IQOuov1",
        "outputId": "35c3d23d-c439-41ce-abc9-4f4a24726869"
      },
      "execution_count": null,
      "outputs": [
        {
          "output_type": "stream",
          "name": "stdout",
          "text": [
            "True\n"
          ]
        }
      ]
    },
    {
      "cell_type": "code",
      "source": [
        "print ((x>y),(x<y),(x>=y),(x<=y))\n",
        "#print greater than, less than, greater than or equal to, less than or equal to"
      ],
      "metadata": {
        "colab": {
          "base_uri": "https://localhost:8080/"
        },
        "id": "WFD9DTmxutrq",
        "outputId": "05722e65-babc-459c-a3d0-3f1b0a9ed9eb"
      },
      "execution_count": null,
      "outputs": [
        {
          "output_type": "stream",
          "name": "stdout",
          "text": [
            "False True False True\n"
          ]
        }
      ]
    },
    {
      "cell_type": "markdown",
      "source": [
        "###logical operators"
      ],
      "metadata": {
        "id": "FXY6Choeu4WS"
      }
    },
    {
      "cell_type": "code",
      "source": [
        "x, y = 9, 25\n",
        "#assign ints to x and y"
      ],
      "metadata": {
        "id": "NoP8urPtwxXD"
      },
      "execution_count": null,
      "outputs": []
    },
    {
      "cell_type": "code",
      "source": [
        "print (x > 5 and y < 30)\n",
        "#true if both are true"
      ],
      "metadata": {
        "colab": {
          "base_uri": "https://localhost:8080/"
        },
        "id": "zxKpx_EQwylB",
        "outputId": "e92ef56b-acb5-436b-d308-7248bad559f7"
      },
      "execution_count": null,
      "outputs": [
        {
          "output_type": "stream",
          "name": "stdout",
          "text": [
            "True\n"
          ]
        }
      ]
    },
    {
      "cell_type": "code",
      "source": [
        "print ( x > 5 or y > 30)\n",
        "#false if both are false"
      ],
      "metadata": {
        "colab": {
          "base_uri": "https://localhost:8080/"
        },
        "id": "n8PIpJBIw6ek",
        "outputId": "a667dc12-f2e6-401f-8519-463f7e19f328"
      },
      "execution_count": null,
      "outputs": [
        {
          "output_type": "stream",
          "name": "stdout",
          "text": [
            "True\n"
          ]
        }
      ]
    },
    {
      "cell_type": "code",
      "source": [
        "print(not(x>5))\n",
        "#gives the opposite"
      ],
      "metadata": {
        "colab": {
          "base_uri": "https://localhost:8080/"
        },
        "id": "quD2r0qNxle6",
        "outputId": "4b229e08-6e9b-4c0e-98ae-e712f632537d"
      },
      "execution_count": null,
      "outputs": [
        {
          "output_type": "stream",
          "name": "stdout",
          "text": [
            "False\n"
          ]
        }
      ]
    },
    {
      "cell_type": "code",
      "source": [
        "print(\"cat\" is \"cat\")\n",
        "#same as\n",
        "print(\"cat\" == \"cat\")"
      ],
      "metadata": {
        "colab": {
          "base_uri": "https://localhost:8080/"
        },
        "id": "zih-K39Pxss_",
        "outputId": "d43721a1-b9e6-44a1-c51c-9a7dd08060c9"
      },
      "execution_count": null,
      "outputs": [
        {
          "output_type": "stream",
          "name": "stdout",
          "text": [
            "True\n",
            "True\n"
          ]
        },
        {
          "output_type": "stream",
          "name": "stderr",
          "text": [
            "<>:1: SyntaxWarning: \"is\" with a literal. Did you mean \"==\"?\n",
            "<>:1: SyntaxWarning: \"is\" with a literal. Did you mean \"==\"?\n",
            "<ipython-input-160-ea7333730169>:1: SyntaxWarning: \"is\" with a literal. Did you mean \"==\"?\n",
            "  print(\"cat\" is \"cat\")\n"
          ]
        }
      ]
    },
    {
      "cell_type": "code",
      "source": [
        "fruit = \"banana\"\n",
        "print(\"na\" in fruit)\n",
        "print(\"na\" not in fruit)\n",
        "#prints if something is in another container"
      ],
      "metadata": {
        "colab": {
          "base_uri": "https://localhost:8080/"
        },
        "id": "1IIJ7mNBx30t",
        "outputId": "23ff640c-17fc-4609-bf49-5988163f1b6e"
      },
      "execution_count": null,
      "outputs": [
        {
          "output_type": "stream",
          "name": "stdout",
          "text": [
            "True\n",
            "False\n"
          ]
        }
      ]
    },
    {
      "cell_type": "markdown",
      "source": [
        "# Collection Data Types"
      ],
      "metadata": {
        "id": "sUVaJkK8ytho"
      }
    },
    {
      "cell_type": "markdown",
      "source": [
        "## Lists"
      ],
      "metadata": {
        "id": "jLjb5AL1y-44"
      }
    },
    {
      "cell_type": "code",
      "source": [
        "numbers = [3, 7, 5, 4, 7, 5, 6, 3, 3, 3, 3]\n",
        "print(numbers)\n",
        "print(numbers[1])\n",
        "print(numbers[-1])\n",
        "#list of number\n",
        "#print list, second element, and last element"
      ],
      "metadata": {
        "colab": {
          "base_uri": "https://localhost:8080/"
        },
        "id": "fmmAw9vRzA66",
        "outputId": "dafb4ea3-1308-49fe-d430-c4cd929448b5"
      },
      "execution_count": null,
      "outputs": [
        {
          "output_type": "stream",
          "name": "stdout",
          "text": [
            "[3, 7, 5, 4, 7, 5, 6, 3, 3, 3, 3]\n",
            "7\n",
            "3\n"
          ]
        }
      ]
    },
    {
      "cell_type": "code",
      "source": [
        "names = [\"Alice\", \"Bob\", \"Carol\", \"Dan\"]\n",
        "print(names[0])\n",
        "print(names[2])\n",
        "#list of strings\n",
        "#print first elment and third element"
      ],
      "metadata": {
        "colab": {
          "base_uri": "https://localhost:8080/"
        },
        "id": "TFlOMxpOzA4T",
        "outputId": "8a8ab62b-6403-4bb4-d9ab-57ac080e326a"
      },
      "execution_count": null,
      "outputs": [
        {
          "output_type": "stream",
          "name": "stdout",
          "text": [
            "Alice\n",
            "Carol\n"
          ]
        }
      ]
    },
    {
      "cell_type": "code",
      "source": [
        "print(names[0][1])\n",
        "#print second character of first string"
      ],
      "metadata": {
        "colab": {
          "base_uri": "https://localhost:8080/"
        },
        "id": "yvVK8OsazA1p",
        "outputId": "346636b1-818f-432f-a902-9021d7bee1f2"
      },
      "execution_count": null,
      "outputs": [
        {
          "output_type": "stream",
          "name": "stdout",
          "text": [
            "l\n"
          ]
        }
      ]
    },
    {
      "cell_type": "code",
      "source": [
        "print(names[-1])\n",
        "print(names[-3])\n",
        "#print last element and third element from the back"
      ],
      "metadata": {
        "colab": {
          "base_uri": "https://localhost:8080/"
        },
        "id": "b4fUZEHpzAyz",
        "outputId": "a1755461-09ff-4e96-cb12-b943bed6203d"
      },
      "execution_count": null,
      "outputs": [
        {
          "output_type": "stream",
          "name": "stdout",
          "text": [
            "Dan\n",
            "Bob\n"
          ]
        }
      ]
    },
    {
      "cell_type": "code",
      "source": [
        "print(names[1:3])\n",
        "#print second and third element\n",
        "#excludes number after :"
      ],
      "metadata": {
        "colab": {
          "base_uri": "https://localhost:8080/"
        },
        "id": "yJPFgBC3zAvi",
        "outputId": "77345f02-6709-49a6-c15b-b73f62124e7e"
      },
      "execution_count": null,
      "outputs": [
        {
          "output_type": "stream",
          "name": "stdout",
          "text": [
            "['Bob', 'Carol']\n"
          ]
        }
      ]
    },
    {
      "cell_type": "code",
      "source": [
        "print(names[0:4])\n",
        "#print elements from first to last"
      ],
      "metadata": {
        "colab": {
          "base_uri": "https://localhost:8080/"
        },
        "id": "tZq2ImtTzAsk",
        "outputId": "dbf91626-f537-4904-ba05-d320c244843b"
      },
      "execution_count": null,
      "outputs": [
        {
          "output_type": "stream",
          "name": "stdout",
          "text": [
            "['Alice', 'Bob', 'Carol', 'Dan']\n"
          ]
        }
      ]
    },
    {
      "cell_type": "code",
      "source": [
        "print(names[0:-1])\n",
        "#print all elements except the last"
      ],
      "metadata": {
        "colab": {
          "base_uri": "https://localhost:8080/"
        },
        "id": "3WbCg6PEzAo2",
        "outputId": "306f91fa-cab8-47a9-8da8-5864d29e3ea4"
      },
      "execution_count": null,
      "outputs": [
        {
          "output_type": "stream",
          "name": "stdout",
          "text": [
            "['Alice', 'Bob', 'Carol']\n"
          ]
        }
      ]
    },
    {
      "cell_type": "code",
      "source": [
        "print(names[0:])\n",
        "#print all elements starting from the index before :"
      ],
      "metadata": {
        "colab": {
          "base_uri": "https://localhost:8080/"
        },
        "id": "TdwiQ_O9zAlp",
        "outputId": "3e44d329-69ac-4fd1-b5eb-adb7486da4ed"
      },
      "execution_count": null,
      "outputs": [
        {
          "output_type": "stream",
          "name": "stdout",
          "text": [
            "['Alice', 'Bob', 'Carol', 'Dan']\n"
          ]
        }
      ]
    },
    {
      "cell_type": "code",
      "source": [
        "string = 'olivia'\n",
        "#set string"
      ],
      "metadata": {
        "id": "ZKgjZwvjzAi5"
      },
      "execution_count": null,
      "outputs": []
    },
    {
      "cell_type": "code",
      "source": [
        "string[2]\n",
        "#get third character of string"
      ],
      "metadata": {
        "colab": {
          "base_uri": "https://localhost:8080/",
          "height": 35
        },
        "id": "b2MTiejl0eMA",
        "outputId": "7f61ead2-44c9-4053-8afc-61ed399ea8a3"
      },
      "execution_count": null,
      "outputs": [
        {
          "output_type": "execute_result",
          "data": {
            "text/plain": [
              "'i'"
            ],
            "application/vnd.google.colaboratory.intrinsic+json": {
              "type": "string"
            }
          },
          "metadata": {},
          "execution_count": 32
        }
      ]
    },
    {
      "cell_type": "code",
      "source": [
        "# string[2] = 5\n",
        "# strings are immutable, so this would be invalid"
      ],
      "metadata": {
        "id": "xYJ0MF1j0iR4"
      },
      "execution_count": null,
      "outputs": []
    },
    {
      "cell_type": "code",
      "source": [
        "names = ['Alice', 'Bob', 'Carol', 'Dan']\n",
        "print(names)\n",
        "names[1] = 'Bobby'\n",
        "print(names)\n",
        "#lists are mutable, so elements inside can be changed"
      ],
      "metadata": {
        "colab": {
          "base_uri": "https://localhost:8080/"
        },
        "id": "g16P4v3U0mZY",
        "outputId": "053c0aa2-b6ce-4a8c-f68a-e9f01f05581e"
      },
      "execution_count": null,
      "outputs": [
        {
          "output_type": "stream",
          "name": "stdout",
          "text": [
            "['Alice', 'Bob', 'Carol', 'Dan']\n",
            "['Alice', 'Bobby', 'Carol', 'Dan']\n"
          ]
        }
      ]
    },
    {
      "cell_type": "markdown",
      "source": [
        "#### practice example"
      ],
      "metadata": {
        "id": "mzdPZyXC4U8e"
      }
    },
    {
      "cell_type": "code",
      "source": [
        "#my_list = input('Enter elements of a list separated by space ')\n",
        "#_list = my_list.split()\n",
        "#print('list: ', _list)\n",
        "#make a list of user input"
      ],
      "metadata": {
        "id": "_C8LkrlT1Z1I"
      },
      "execution_count": null,
      "outputs": []
    },
    {
      "cell_type": "markdown",
      "source": [
        "#### nested lists"
      ],
      "metadata": {
        "id": "KZed6zShRHjG"
      }
    },
    {
      "cell_type": "code",
      "source": [
        "#set a list of lists\n",
        "matrix = [[1, 2, 3], [4, 5, 6], [7, 8, 9]]"
      ],
      "metadata": {
        "id": "H8GrGrdYRHOn"
      },
      "execution_count": null,
      "outputs": []
    },
    {
      "cell_type": "code",
      "source": [
        "#print matrix\n",
        "print(matrix)"
      ],
      "metadata": {
        "colab": {
          "base_uri": "https://localhost:8080/"
        },
        "id": "wIYeuQTeRHLY",
        "outputId": "9a419ff4-44b6-4c41-d10e-27f8281b63b3"
      },
      "execution_count": null,
      "outputs": [
        {
          "output_type": "stream",
          "name": "stdout",
          "text": [
            "[[1, 2, 3], [4, 5, 6], [7, 8, 9]]\n"
          ]
        }
      ]
    },
    {
      "cell_type": "code",
      "source": [
        "#print third element of second list\n",
        "print(matrix[1][2])"
      ],
      "metadata": {
        "colab": {
          "base_uri": "https://localhost:8080/"
        },
        "id": "WfOU-0iYRxNI",
        "outputId": "75d1b24a-13c4-45d4-fb8d-38a2183d0244"
      },
      "execution_count": null,
      "outputs": [
        {
          "output_type": "stream",
          "name": "stdout",
          "text": [
            "6\n"
          ]
        }
      ]
    },
    {
      "cell_type": "code",
      "source": [
        "#print first element of third list\n",
        "print(matrix[2][0])"
      ],
      "metadata": {
        "colab": {
          "base_uri": "https://localhost:8080/"
        },
        "id": "cA8EtxwKRxKw",
        "outputId": "1893bdcb-05fb-49cc-b9b6-affb03623fe6"
      },
      "execution_count": null,
      "outputs": [
        {
          "output_type": "stream",
          "name": "stdout",
          "text": [
            "7\n"
          ]
        }
      ]
    },
    {
      "cell_type": "code",
      "source": [
        "#set matrix\n",
        "#print matrix\n",
        "#print first element of the second list in the first list\n",
        "matrix = [[[1, 2], [3, 4, 6, 4, 6]], [[5, 6], [7, 8]]]\n",
        "print(matrix)\n",
        "print(matrix[0][1][0])"
      ],
      "metadata": {
        "colab": {
          "base_uri": "https://localhost:8080/"
        },
        "id": "oQJdQ8fbRxIW",
        "outputId": "dca8de5a-5adb-4774-955d-8d58cb553d42"
      },
      "execution_count": null,
      "outputs": [
        {
          "output_type": "stream",
          "name": "stdout",
          "text": [
            "[[[1, 2], [3, 4, 6, 4, 6]], [[5, 6], [7, 8]]]\n",
            "3\n"
          ]
        }
      ]
    },
    {
      "cell_type": "code",
      "source": [
        "#print length of matrix\n",
        "#print length of second list in the first list\n",
        "print(len(matrix))\n",
        "print(len(matrix[0][1]))"
      ],
      "metadata": {
        "colab": {
          "base_uri": "https://localhost:8080/"
        },
        "id": "M7AogOQKRxFY",
        "outputId": "83928b5b-af75-4445-e2b1-6f1aa8fdb29e"
      },
      "execution_count": null,
      "outputs": [
        {
          "output_type": "stream",
          "name": "stdout",
          "text": [
            "2\n",
            "5\n"
          ]
        }
      ]
    },
    {
      "cell_type": "markdown",
      "source": [
        "#### list functions"
      ],
      "metadata": {
        "id": "aA2E9DZrRxCm"
      }
    },
    {
      "cell_type": "code",
      "source": [
        "#set list\n",
        "#print length of list\n",
        "pets = ['cat', 'dog', 'parrot']\n",
        "print(len(pets))"
      ],
      "metadata": {
        "colab": {
          "base_uri": "https://localhost:8080/"
        },
        "id": "cM6lAOCXRw_v",
        "outputId": "94a1478a-f560-4462-a21b-82b70d9535d0"
      },
      "execution_count": null,
      "outputs": [
        {
          "output_type": "stream",
          "name": "stdout",
          "text": [
            "3\n"
          ]
        }
      ]
    },
    {
      "cell_type": "code",
      "source": [
        "#add fish to the list\n",
        "print(pets)\n",
        "pets.append('fish')\n",
        "print(pets)"
      ],
      "metadata": {
        "colab": {
          "base_uri": "https://localhost:8080/"
        },
        "id": "hoy642z_S2AT",
        "outputId": "6987e35d-1f6b-46e0-bbee-8a2553111cca"
      },
      "execution_count": null,
      "outputs": [
        {
          "output_type": "stream",
          "name": "stdout",
          "text": [
            "['cat', 'dog', 'parrot']\n",
            "['cat', 'dog', 'parrot', 'fish']\n"
          ]
        }
      ]
    },
    {
      "cell_type": "code",
      "source": [
        "#see available functions for pets\n",
        "dir(pets)"
      ],
      "metadata": {
        "colab": {
          "base_uri": "https://localhost:8080/"
        },
        "id": "YoQh1X1_S180",
        "outputId": "c9db443a-1613-43ea-b829-ffd4088262fd"
      },
      "execution_count": null,
      "outputs": [
        {
          "output_type": "execute_result",
          "data": {
            "text/plain": [
              "['__add__',\n",
              " '__class__',\n",
              " '__class_getitem__',\n",
              " '__contains__',\n",
              " '__delattr__',\n",
              " '__delitem__',\n",
              " '__dir__',\n",
              " '__doc__',\n",
              " '__eq__',\n",
              " '__format__',\n",
              " '__ge__',\n",
              " '__getattribute__',\n",
              " '__getitem__',\n",
              " '__gt__',\n",
              " '__hash__',\n",
              " '__iadd__',\n",
              " '__imul__',\n",
              " '__init__',\n",
              " '__init_subclass__',\n",
              " '__iter__',\n",
              " '__le__',\n",
              " '__len__',\n",
              " '__lt__',\n",
              " '__mul__',\n",
              " '__ne__',\n",
              " '__new__',\n",
              " '__reduce__',\n",
              " '__reduce_ex__',\n",
              " '__repr__',\n",
              " '__reversed__',\n",
              " '__rmul__',\n",
              " '__setattr__',\n",
              " '__setitem__',\n",
              " '__sizeof__',\n",
              " '__str__',\n",
              " '__subclasshook__',\n",
              " 'append',\n",
              " 'clear',\n",
              " 'copy',\n",
              " 'count',\n",
              " 'extend',\n",
              " 'index',\n",
              " 'insert',\n",
              " 'pop',\n",
              " 'remove',\n",
              " 'reverse',\n",
              " 'sort']"
            ]
          },
          "metadata": {},
          "execution_count": 42
        }
      ]
    },
    {
      "cell_type": "code",
      "source": [
        "#insert hamster at the second list\n",
        "pets.insert(1, 'hamster')\n",
        "print(pets)"
      ],
      "metadata": {
        "colab": {
          "base_uri": "https://localhost:8080/"
        },
        "id": "yzv8iS8hS15a",
        "outputId": "e1b54bba-1e92-4aa6-b574-969e98e3a877"
      },
      "execution_count": null,
      "outputs": [
        {
          "output_type": "stream",
          "name": "stdout",
          "text": [
            "['cat', 'hamster', 'dog', 'parrot', 'fish']\n"
          ]
        }
      ]
    },
    {
      "cell_type": "code",
      "source": [
        "#print if cat is in pets\n",
        "print('cat' in pets)"
      ],
      "metadata": {
        "colab": {
          "base_uri": "https://localhost:8080/"
        },
        "id": "Az-2hBRhS12C",
        "outputId": "ceb3f8af-c7e3-4f2c-a390-d94407767b2e"
      },
      "execution_count": null,
      "outputs": [
        {
          "output_type": "stream",
          "name": "stdout",
          "text": [
            "True\n"
          ]
        }
      ]
    },
    {
      "cell_type": "code",
      "source": [
        "#print if tiger is in pets\n",
        "print('tiger' in pets)"
      ],
      "metadata": {
        "colab": {
          "base_uri": "https://localhost:8080/"
        },
        "id": "aTz9y7SeT3Uh",
        "outputId": "91e2328e-a723-4df8-d292-1a6424d6c9e3"
      },
      "execution_count": null,
      "outputs": [
        {
          "output_type": "stream",
          "name": "stdout",
          "text": [
            "False\n"
          ]
        }
      ]
    },
    {
      "cell_type": "code",
      "source": [
        "#remove fish from pets\n",
        "pets.remove('fish')"
      ],
      "metadata": {
        "id": "T50sxpGWT3Rk"
      },
      "execution_count": null,
      "outputs": []
    },
    {
      "cell_type": "code",
      "source": [
        "#print pets\n",
        "pets"
      ],
      "metadata": {
        "colab": {
          "base_uri": "https://localhost:8080/"
        },
        "id": "vGC7oIGPT3Os",
        "outputId": "9f9398bb-1ab3-47e8-e5f8-752a7ece42a0"
      },
      "execution_count": null,
      "outputs": [
        {
          "output_type": "execute_result",
          "data": {
            "text/plain": [
              "['cat', 'hamster', 'dog', 'parrot']"
            ]
          },
          "metadata": {},
          "execution_count": 47
        }
      ]
    },
    {
      "cell_type": "code",
      "source": [
        "#remove fourth element from pets\n",
        "pets.remove(pets[3])"
      ],
      "metadata": {
        "id": "A200PFaST3MD"
      },
      "execution_count": null,
      "outputs": []
    },
    {
      "cell_type": "code",
      "source": [
        "#print pets\n",
        "pets"
      ],
      "metadata": {
        "colab": {
          "base_uri": "https://localhost:8080/"
        },
        "id": "p5VnCZC1T3IO",
        "outputId": "8c147908-401a-4484-8c95-d97ef28f2790"
      },
      "execution_count": null,
      "outputs": [
        {
          "output_type": "execute_result",
          "data": {
            "text/plain": [
              "['cat', 'hamster', 'dog']"
            ]
          },
          "metadata": {},
          "execution_count": 49
        }
      ]
    },
    {
      "cell_type": "code",
      "source": [
        "#remove last element and returns it\n",
        "pets.pop()"
      ],
      "metadata": {
        "colab": {
          "base_uri": "https://localhost:8080/",
          "height": 35
        },
        "id": "gH6NpD0TT3FE",
        "outputId": "b645c262-bb29-4cbc-ce1c-81ad65a24156"
      },
      "execution_count": null,
      "outputs": [
        {
          "output_type": "execute_result",
          "data": {
            "text/plain": [
              "'dog'"
            ],
            "application/vnd.google.colaboratory.intrinsic+json": {
              "type": "string"
            }
          },
          "metadata": {},
          "execution_count": 50
        }
      ]
    },
    {
      "cell_type": "code",
      "source": [
        "#remove first element and returns it\n",
        "pets.pop(0)"
      ],
      "metadata": {
        "colab": {
          "base_uri": "https://localhost:8080/",
          "height": 35
        },
        "id": "7mXwRmzDT3BM",
        "outputId": "c728a813-fe74-4b03-e9f2-c4c8e72179f3"
      },
      "execution_count": null,
      "outputs": [
        {
          "output_type": "execute_result",
          "data": {
            "text/plain": [
              "'cat'"
            ],
            "application/vnd.google.colaboratory.intrinsic+json": {
              "type": "string"
            }
          },
          "metadata": {},
          "execution_count": 51
        }
      ]
    },
    {
      "cell_type": "code",
      "source": [
        "#set list\n",
        "pets = ['cat', 'dog', 'parrot']"
      ],
      "metadata": {
        "id": "oNO_VO11T296"
      },
      "execution_count": null,
      "outputs": []
    },
    {
      "cell_type": "code",
      "source": [
        "#print list\n",
        "pets"
      ],
      "metadata": {
        "colab": {
          "base_uri": "https://localhost:8080/"
        },
        "id": "XDrEYO88T26i",
        "outputId": "773f0d67-71ac-4319-ca1d-adab8ecabb0f"
      },
      "execution_count": null,
      "outputs": [
        {
          "output_type": "execute_result",
          "data": {
            "text/plain": [
              "['cat', 'dog', 'parrot']"
            ]
          },
          "metadata": {},
          "execution_count": 53
        }
      ]
    },
    {
      "cell_type": "code",
      "source": [
        "#delte second element of list\n",
        "del pets[1]"
      ],
      "metadata": {
        "id": "kbJewa2KT23Z"
      },
      "execution_count": null,
      "outputs": []
    },
    {
      "cell_type": "code",
      "source": [
        "#print pets\n",
        "pets"
      ],
      "metadata": {
        "colab": {
          "base_uri": "https://localhost:8080/"
        },
        "id": "x4YeDQCmUsN6",
        "outputId": "eb9838ce-7d3c-49b9-b5fc-9a615b61a4bb"
      },
      "execution_count": null,
      "outputs": [
        {
          "output_type": "execute_result",
          "data": {
            "text/plain": [
              "['cat', 'parrot']"
            ]
          },
          "metadata": {},
          "execution_count": 55
        }
      ]
    },
    {
      "cell_type": "code",
      "source": [
        "#empty pets list\n",
        "pets.clear()"
      ],
      "metadata": {
        "id": "sLCClcidUsKZ"
      },
      "execution_count": null,
      "outputs": []
    },
    {
      "cell_type": "code",
      "source": [
        "#print pets\n",
        "pets"
      ],
      "metadata": {
        "colab": {
          "base_uri": "https://localhost:8080/"
        },
        "id": "UWCc6luCUsIK",
        "outputId": "fa18e03f-cba1-4031-d4d1-28b9049c5838"
      },
      "execution_count": null,
      "outputs": [
        {
          "output_type": "execute_result",
          "data": {
            "text/plain": [
              "[]"
            ]
          },
          "metadata": {},
          "execution_count": 57
        }
      ]
    },
    {
      "cell_type": "code",
      "source": [
        "#sets pets to null\n",
        "pets = None"
      ],
      "metadata": {
        "id": "KSmqWd4qUsAl"
      },
      "execution_count": null,
      "outputs": []
    },
    {
      "cell_type": "markdown",
      "source": [
        "#### iterators"
      ],
      "metadata": {
        "id": "9JSW1uDGUr9b"
      }
    },
    {
      "cell_type": "code",
      "source": [
        "#set string to my_cat\n",
        "#initiate iterator\n",
        "my_cat = \"Fluffy\"\n",
        "my_iterator = iter(my_cat)"
      ],
      "metadata": {
        "id": "4ZABuULLVqt2"
      },
      "execution_count": null,
      "outputs": []
    },
    {
      "cell_type": "code",
      "source": [
        "#print next character with iterator\n",
        "print(next(my_iterator))"
      ],
      "metadata": {
        "colab": {
          "base_uri": "https://localhost:8080/"
        },
        "id": "ekB9tXdFVqqd",
        "outputId": "45c1f2e8-797b-479d-9f32-988c5b0a2659"
      },
      "execution_count": null,
      "outputs": [
        {
          "output_type": "stream",
          "name": "stdout",
          "text": [
            "F\n"
          ]
        }
      ]
    },
    {
      "cell_type": "code",
      "source": [
        "#print next character with iterator\n",
        "print(next(my_iterator))"
      ],
      "metadata": {
        "colab": {
          "base_uri": "https://localhost:8080/"
        },
        "id": "EAi5kSCvVozg",
        "outputId": "0a916b13-efed-45c2-9918-eba309abd25f"
      },
      "execution_count": null,
      "outputs": [
        {
          "output_type": "stream",
          "name": "stdout",
          "text": [
            "l\n"
          ]
        }
      ]
    },
    {
      "cell_type": "code",
      "source": [
        "#print next character with iterator\n",
        "print(next(my_iterator))"
      ],
      "metadata": {
        "colab": {
          "base_uri": "https://localhost:8080/"
        },
        "id": "EA0vC1PpVov2",
        "outputId": "898e8eeb-a53d-40f6-9258-8c908a97f3f4"
      },
      "execution_count": null,
      "outputs": [
        {
          "output_type": "stream",
          "name": "stdout",
          "text": [
            "u\n"
          ]
        }
      ]
    },
    {
      "cell_type": "markdown",
      "source": [
        "## Tuples"
      ],
      "metadata": {
        "id": "6rf40zgg4KIR"
      }
    },
    {
      "cell_type": "code",
      "source": [
        "#tuples can have different data types\n",
        "#they are immutable\n",
        "dinner = ('chicken', 'fries', 18)\n",
        "print(dinner)\n",
        "print(type(dinner))"
      ],
      "metadata": {
        "id": "4D-sHt4s5Q8M",
        "colab": {
          "base_uri": "https://localhost:8080/"
        },
        "outputId": "0fc0650d-c7da-4d94-f056-77aece9232d5"
      },
      "execution_count": null,
      "outputs": [
        {
          "output_type": "stream",
          "name": "stdout",
          "text": [
            "('chicken', 'fries', 18)\n",
            "<class 'tuple'>\n"
          ]
        }
      ]
    },
    {
      "cell_type": "code",
      "source": [
        "#add element to tuple\n",
        "#comma is needed for one element\n",
        "breakfast = ('eggs', )\n",
        "print(breakfast)\n",
        "print(type(breakfast))"
      ],
      "metadata": {
        "id": "1QQbcJeV5Q5E",
        "colab": {
          "base_uri": "https://localhost:8080/"
        },
        "outputId": "897b4ac0-ff74-4295-f953-720ad4faaeff"
      },
      "execution_count": null,
      "outputs": [
        {
          "output_type": "stream",
          "name": "stdout",
          "text": [
            "('eggs',)\n",
            "<class 'tuple'>\n"
          ]
        }
      ]
    },
    {
      "cell_type": "code",
      "source": [
        "#new tuple\n",
        "lunch = ()\n",
        "print(lunch)\n",
        "print(type(lunch))"
      ],
      "metadata": {
        "id": "1_Dksciv5Q16",
        "colab": {
          "base_uri": "https://localhost:8080/"
        },
        "outputId": "60768694-df87-4fa1-cd85-42bea86c12d1"
      },
      "execution_count": null,
      "outputs": [
        {
          "output_type": "stream",
          "name": "stdout",
          "text": [
            "()\n",
            "<class 'tuple'>\n"
          ]
        }
      ]
    },
    {
      "cell_type": "code",
      "source": [
        "#functions for tuple\n",
        "dir(dinner)"
      ],
      "metadata": {
        "colab": {
          "base_uri": "https://localhost:8080/"
        },
        "id": "y1Q9vvf9W71s",
        "outputId": "3d13f6b6-05eb-4713-f30e-afb1a9ad5553"
      },
      "execution_count": null,
      "outputs": [
        {
          "output_type": "execute_result",
          "data": {
            "text/plain": [
              "['__add__',\n",
              " '__class__',\n",
              " '__class_getitem__',\n",
              " '__contains__',\n",
              " '__delattr__',\n",
              " '__dir__',\n",
              " '__doc__',\n",
              " '__eq__',\n",
              " '__format__',\n",
              " '__ge__',\n",
              " '__getattribute__',\n",
              " '__getitem__',\n",
              " '__getnewargs__',\n",
              " '__gt__',\n",
              " '__hash__',\n",
              " '__init__',\n",
              " '__init_subclass__',\n",
              " '__iter__',\n",
              " '__le__',\n",
              " '__len__',\n",
              " '__lt__',\n",
              " '__mul__',\n",
              " '__ne__',\n",
              " '__new__',\n",
              " '__reduce__',\n",
              " '__reduce_ex__',\n",
              " '__repr__',\n",
              " '__rmul__',\n",
              " '__setattr__',\n",
              " '__sizeof__',\n",
              " '__str__',\n",
              " '__subclasshook__',\n",
              " 'count',\n",
              " 'index']"
            ]
          },
          "metadata": {},
          "execution_count": 70
        }
      ]
    },
    {
      "cell_type": "code",
      "source": [
        "#get second and last element of tuple\n",
        "my_desk = (\"laptop\", \"mouse\", \"paper\", \"pen\")\n",
        "print(my_desk[1])\n",
        "print(my_desk[-1])"
      ],
      "metadata": {
        "colab": {
          "base_uri": "https://localhost:8080/"
        },
        "id": "cLdKuDBQXQ1r",
        "outputId": "8c5a658f-2e5c-43e1-96a6-42efb078ca77"
      },
      "execution_count": null,
      "outputs": [
        {
          "output_type": "stream",
          "name": "stdout",
          "text": [
            "mouse\n",
            "pen\n"
          ]
        }
      ]
    },
    {
      "cell_type": "code",
      "source": [
        "#get second to fourth elements of tuple exclusive\n",
        "new_desk = my_desk[1:3]\n",
        "print(new_desk)\n",
        "print(type(new_desk))"
      ],
      "metadata": {
        "colab": {
          "base_uri": "https://localhost:8080/"
        },
        "id": "aTTOJKoTXQy7",
        "outputId": "d158983e-19a4-4e0b-9803-ac418a26b015"
      },
      "execution_count": null,
      "outputs": [
        {
          "output_type": "stream",
          "name": "stdout",
          "text": [
            "('mouse', 'paper')\n",
            "<class 'tuple'>\n"
          ]
        }
      ]
    },
    {
      "cell_type": "code",
      "source": [
        "#print everything after second element\n",
        "print(my_desk[1:])"
      ],
      "metadata": {
        "colab": {
          "base_uri": "https://localhost:8080/"
        },
        "id": "UpxMAITbXQwb",
        "outputId": "7e114c92-cdd6-4816-fe02-c24fa00ee572"
      },
      "execution_count": null,
      "outputs": [
        {
          "output_type": "stream",
          "name": "stdout",
          "text": [
            "('mouse', 'paper', 'pen')\n"
          ]
        }
      ]
    },
    {
      "cell_type": "code",
      "source": [
        "#set new tuple with section of old one\n",
        "my_desk = (\"laptop\", \"mouse\", \"paper\", \"pen\")\n",
        "new_desk = my_desk[1:3]\n",
        "print(new_desk)\n",
        "print(type(new_desk))"
      ],
      "metadata": {
        "colab": {
          "base_uri": "https://localhost:8080/"
        },
        "id": "2XjyErZFXQtn",
        "outputId": "647c10ef-e89e-49d0-f5b3-456fa72f4429"
      },
      "execution_count": null,
      "outputs": [
        {
          "output_type": "stream",
          "name": "stdout",
          "text": [
            "('mouse', 'paper')\n",
            "<class 'tuple'>\n"
          ]
        }
      ]
    },
    {
      "cell_type": "code",
      "source": [
        "#set new tuple with additional element\n",
        "#+ is used to add new element\n",
        "new_desk = my_desk + (\"coffee\", )\n",
        "print(new_desk)\n",
        "print(type(new_desk))\n"
      ],
      "metadata": {
        "colab": {
          "base_uri": "https://localhost:8080/"
        },
        "id": "1_QCUPwPXQrx",
        "outputId": "21359222-13a8-43c2-ecd4-256edebc715b"
      },
      "execution_count": null,
      "outputs": [
        {
          "output_type": "stream",
          "name": "stdout",
          "text": [
            "('laptop', 'mouse', 'paper', 'pen', 'coffee')\n",
            "<class 'tuple'>\n"
          ]
        }
      ]
    },
    {
      "cell_type": "code",
      "source": [
        "#convert tuple to list\n",
        "my_desk_list = list(my_desk)"
      ],
      "metadata": {
        "id": "d3UtSN09XQnO"
      },
      "execution_count": null,
      "outputs": []
    },
    {
      "cell_type": "code",
      "source": [
        "#append element to list and convert it back to tuple\n",
        "my_desk_list.append(\"phone\")\n",
        "new_desk = tuple(my_desk_list)\n",
        "print(new_desk)\n",
        "print(type(new_desk))"
      ],
      "metadata": {
        "colab": {
          "base_uri": "https://localhost:8080/"
        },
        "id": "b6zVCT4oXQkD",
        "outputId": "d0f906ef-1fd3-4d48-b8ae-e161cd51cb47"
      },
      "execution_count": null,
      "outputs": [
        {
          "output_type": "stream",
          "name": "stdout",
          "text": [
            "('laptop', 'mouse', 'paper', 'pen', 'phone')\n",
            "<class 'tuple'>\n"
          ]
        }
      ]
    },
    {
      "cell_type": "code",
      "source": [
        "#print tuple\n",
        "new_desk"
      ],
      "metadata": {
        "colab": {
          "base_uri": "https://localhost:8080/"
        },
        "id": "EcKP9QUsXQgs",
        "outputId": "d147ab72-7532-4263-b021-d1e84de3f124"
      },
      "execution_count": null,
      "outputs": [
        {
          "output_type": "execute_result",
          "data": {
            "text/plain": [
              "('laptop', 'mouse', 'paper', 'pen', 'phone')"
            ]
          },
          "metadata": {},
          "execution_count": 77
        }
      ]
    },
    {
      "cell_type": "code",
      "source": [
        "type(new_desk)"
      ],
      "metadata": {
        "colab": {
          "base_uri": "https://localhost:8080/"
        },
        "id": "FzqzPSojYWif",
        "outputId": "48f5f491-6d4f-4708-fe94-a0a245a67c62"
      },
      "execution_count": null,
      "outputs": [
        {
          "output_type": "execute_result",
          "data": {
            "text/plain": [
              "tuple"
            ]
          },
          "metadata": {},
          "execution_count": 79
        }
      ]
    },
    {
      "cell_type": "code",
      "source": [
        "# new_desk.append('pencil')\n",
        "new_desk = my_desk + (\"pencil\", )"
      ],
      "metadata": {
        "id": "QiENOP5pYWfj"
      },
      "execution_count": null,
      "outputs": []
    },
    {
      "cell_type": "markdown",
      "source": [
        "#### tuple usage cases"
      ],
      "metadata": {
        "id": "BtX2_N8sYWcz"
      }
    },
    {
      "cell_type": "code",
      "source": [
        "#used for databases since they are immutable\n",
        "db = ('Oracle', 'SQL')"
      ],
      "metadata": {
        "id": "TyEmRtWaYWZz"
      },
      "execution_count": null,
      "outputs": []
    },
    {
      "cell_type": "code",
      "source": [
        "new_db = db + ('username', 'password')\n",
        "print(new_db)\n",
        "print(type(new_db))"
      ],
      "metadata": {
        "colab": {
          "base_uri": "https://localhost:8080/"
        },
        "id": "R7s0LOEjYWW0",
        "outputId": "8cd8b1ca-0c0f-4546-ca76-3cbd9aa37f8a"
      },
      "execution_count": null,
      "outputs": [
        {
          "output_type": "stream",
          "name": "stdout",
          "text": [
            "('Oracle', 'SQL', 'username', 'password')\n",
            "<class 'tuple'>\n"
          ]
        }
      ]
    },
    {
      "cell_type": "code",
      "source": [
        "friend1 = ('Alex', 25, False)\n",
        "friend2 = ('Diane', 23, False)\n",
        "friend3 = ('Michael', 32, True)"
      ],
      "metadata": {
        "id": "CGdNkGSgYWTx"
      },
      "execution_count": null,
      "outputs": []
    },
    {
      "cell_type": "code",
      "source": [
        "print(friend1)\n",
        "print(friend2)\n",
        "print(friend3)\n"
      ],
      "metadata": {
        "colab": {
          "base_uri": "https://localhost:8080/"
        },
        "id": "ec-v8tvhYWQn",
        "outputId": "d471d7f7-7452-4141-e712-6bdcef45107a"
      },
      "execution_count": null,
      "outputs": [
        {
          "output_type": "stream",
          "name": "stdout",
          "text": [
            "('Alex', 25, False)\n",
            "('Diane', 23, False)\n",
            "('Michael', 32, True)\n"
          ]
        }
      ]
    },
    {
      "cell_type": "code",
      "source": [
        "#set friend 2 to erica instead of diane\n",
        "friend2 = (\"Erica\",) + friend2[1:]\n",
        "print(friend2)\n",
        "print(type(friend2))\n"
      ],
      "metadata": {
        "colab": {
          "base_uri": "https://localhost:8080/"
        },
        "id": "1AJKXxUGYWNW",
        "outputId": "cce13de9-ef4b-4eca-db05-c7bb41be15d0"
      },
      "execution_count": null,
      "outputs": [
        {
          "output_type": "stream",
          "name": "stdout",
          "text": [
            "('Erica', 23, False)\n",
            "<class 'tuple'>\n"
          ]
        }
      ]
    },
    {
      "cell_type": "markdown",
      "source": [
        "#### tuple functions"
      ],
      "metadata": {
        "id": "FF-c5wN0adZm"
      }
    },
    {
      "cell_type": "code",
      "source": [
        "#length function\n",
        "my_desk = ('laptop', 'mouse', 'paper', 'pen')\n",
        "print(len(my_desk))"
      ],
      "metadata": {
        "colab": {
          "base_uri": "https://localhost:8080/"
        },
        "id": "d2TuZskGadWM",
        "outputId": "9f245055-bd69-4972-ce9a-fc27bc7cf837"
      },
      "execution_count": null,
      "outputs": [
        {
          "output_type": "stream",
          "name": "stdout",
          "text": [
            "4\n"
          ]
        }
      ]
    },
    {
      "cell_type": "code",
      "source": [
        "del(my_desk)\n",
        "#deletes my_desk"
      ],
      "metadata": {
        "id": "m8fe2M_FadTG"
      },
      "execution_count": null,
      "outputs": []
    },
    {
      "cell_type": "code",
      "source": [
        "#count number of elements\n",
        "digits = (3, 7, 5, 6, 3, 5, 7, 6, 3, 2, 8, 6, 3, 5)\n",
        "print(digits.count(3))\n",
        "print(digits.count(5))"
      ],
      "metadata": {
        "colab": {
          "base_uri": "https://localhost:8080/"
        },
        "id": "3RSAwaXradQD",
        "outputId": "d9e4c513-65fb-4fe1-dbdc-07327f90f362"
      },
      "execution_count": null,
      "outputs": [
        {
          "output_type": "stream",
          "name": "stdout",
          "text": [
            "4\n",
            "3\n"
          ]
        }
      ]
    },
    {
      "cell_type": "code",
      "source": [
        "#print element at the index\n",
        "print(digits.index(8))\n",
        "print(digits.index(7))"
      ],
      "metadata": {
        "colab": {
          "base_uri": "https://localhost:8080/"
        },
        "id": "N6IC4j7radNO",
        "outputId": "52828390-a55c-449f-f858-1a8a482a5428"
      },
      "execution_count": null,
      "outputs": [
        {
          "output_type": "stream",
          "name": "stdout",
          "text": [
            "10\n",
            "1\n"
          ]
        }
      ]
    },
    {
      "cell_type": "markdown",
      "source": [
        "## Sets"
      ],
      "metadata": {
        "id": "DOxemvWZa0Mp"
      }
    },
    {
      "cell_type": "code",
      "source": [
        "#should not use {} to declare set\n",
        "# convert it from tuple instead\n",
        "days = (\"Mon\", \"Tue\", \"Wed\", \"Thu\", \"Fri\", \"Tue\", \"Tue\")"
      ],
      "metadata": {
        "id": "Skt6CaJda0JH"
      },
      "execution_count": null,
      "outputs": []
    },
    {
      "cell_type": "code",
      "source": [
        "type(days)"
      ],
      "metadata": {
        "colab": {
          "base_uri": "https://localhost:8080/"
        },
        "id": "SZOdeJq0a0Fw",
        "outputId": "222a32a7-6466-4c11-d21e-9d2e9a9090fa"
      },
      "execution_count": null,
      "outputs": [
        {
          "output_type": "execute_result",
          "data": {
            "text/plain": [
              "tuple"
            ]
          },
          "metadata": {},
          "execution_count": 84
        }
      ]
    },
    {
      "cell_type": "code",
      "source": [
        "print(days)"
      ],
      "metadata": {
        "colab": {
          "base_uri": "https://localhost:8080/"
        },
        "id": "dITxuF-Da0CT",
        "outputId": "d463f6c1-07f7-4499-fdf6-48eda1202706"
      },
      "execution_count": null,
      "outputs": [
        {
          "output_type": "stream",
          "name": "stdout",
          "text": [
            "('Mon', 'Tue', 'Wed', 'Thu', 'Fri', 'Tue', 'Tue')\n"
          ]
        }
      ]
    },
    {
      "cell_type": "code",
      "source": [
        "days = set(days)"
      ],
      "metadata": {
        "id": "tHGdhpOXaz_R"
      },
      "execution_count": null,
      "outputs": []
    },
    {
      "cell_type": "code",
      "source": [
        "days"
      ],
      "metadata": {
        "colab": {
          "base_uri": "https://localhost:8080/"
        },
        "id": "pZyXoxlXaz7b",
        "outputId": "9afadd00-1239-44df-f7c8-32e3fe3ef475"
      },
      "execution_count": null,
      "outputs": [
        {
          "output_type": "execute_result",
          "data": {
            "text/plain": [
              "{'Fri', 'Mon', 'Thu', 'Tue', 'Wed'}"
            ]
          },
          "metadata": {},
          "execution_count": 101
        }
      ]
    },
    {
      "cell_type": "code",
      "source": [
        "type(days)"
      ],
      "metadata": {
        "colab": {
          "base_uri": "https://localhost:8080/"
        },
        "id": "ZxYCYjICaz4D",
        "outputId": "e9ab2596-350d-4858-e098-dd303b873566"
      },
      "execution_count": null,
      "outputs": [
        {
          "output_type": "execute_result",
          "data": {
            "text/plain": [
              "set"
            ]
          },
          "metadata": {},
          "execution_count": 102
        }
      ]
    },
    {
      "cell_type": "code",
      "source": [
        "#functions for set\n",
        "dir(days)"
      ],
      "metadata": {
        "id": "UzcDDMWUaz0b"
      },
      "execution_count": null,
      "outputs": []
    },
    {
      "cell_type": "markdown",
      "source": [
        "#### updating sets"
      ],
      "metadata": {
        "id": "0Y9OhiaWcAk4"
      }
    },
    {
      "cell_type": "code",
      "source": [
        "#use add to add single element\n",
        "days = {\"Mon\", \"Tue\", \"Wed\"}\n",
        "days.add(\"Thu\")\n",
        "print(days)"
      ],
      "metadata": {
        "colab": {
          "base_uri": "https://localhost:8080/"
        },
        "id": "NzE5q_yWcAhs",
        "outputId": "10d711c9-e3d1-426d-ec3f-02517e1bdca9"
      },
      "execution_count": null,
      "outputs": [
        {
          "output_type": "stream",
          "name": "stdout",
          "text": [
            "{'Thu', 'Mon', 'Tue', 'Wed'}\n"
          ]
        }
      ]
    },
    {
      "cell_type": "code",
      "source": [
        "#update to add list\n",
        "days.update(['Fri', 'Sat', 'Tue'])\n",
        "print(days)"
      ],
      "metadata": {
        "colab": {
          "base_uri": "https://localhost:8080/"
        },
        "id": "7fsZpmQgcAe8",
        "outputId": "ede61961-da80-483d-8d8b-c99a6353e693"
      },
      "execution_count": null,
      "outputs": [
        {
          "output_type": "stream",
          "name": "stdout",
          "text": [
            "{'Tue', 'Mon', 'Thu', 'Wed', 'Fri', 'Sat'}\n"
          ]
        }
      ]
    },
    {
      "cell_type": "code",
      "source": [
        "#remove element\n",
        "days.remove('Mon')\n",
        "print(days)"
      ],
      "metadata": {
        "colab": {
          "base_uri": "https://localhost:8080/"
        },
        "id": "OCOAq36OcAb6",
        "outputId": "109fd218-0a04-4ac0-f6cc-5b3f7ae792b8"
      },
      "execution_count": null,
      "outputs": [
        {
          "output_type": "stream",
          "name": "stdout",
          "text": [
            "{'Tue', 'Thu', 'Wed', 'Fri', 'Sat'}\n"
          ]
        }
      ]
    },
    {
      "cell_type": "code",
      "source": [
        "#remove first element\n",
        "days.pop()\n",
        "print(days)"
      ],
      "metadata": {
        "colab": {
          "base_uri": "https://localhost:8080/"
        },
        "id": "4_4bdiUfcAZO",
        "outputId": "75b82fb9-e954-492d-9259-f3040d70dbff"
      },
      "execution_count": null,
      "outputs": [
        {
          "output_type": "stream",
          "name": "stdout",
          "text": [
            "{'Thu', 'Wed', 'Fri', 'Sat'}\n"
          ]
        }
      ]
    },
    {
      "cell_type": "code",
      "source": [
        "#empty set\n",
        "days.clear()\n",
        "print(days)"
      ],
      "metadata": {
        "colab": {
          "base_uri": "https://localhost:8080/"
        },
        "id": "LOQvHaKQcAVY",
        "outputId": "8e520b3f-c776-419b-87d9-6c04c286349a"
      },
      "execution_count": null,
      "outputs": [
        {
          "output_type": "stream",
          "name": "stdout",
          "text": [
            "set()\n"
          ]
        }
      ]
    },
    {
      "cell_type": "code",
      "source": [
        "days"
      ],
      "metadata": {
        "colab": {
          "base_uri": "https://localhost:8080/"
        },
        "id": "EMOhY6LfcASV",
        "outputId": "371b9857-404e-48c2-9f0c-3b883e75a0cc"
      },
      "execution_count": null,
      "outputs": [
        {
          "output_type": "execute_result",
          "data": {
            "text/plain": [
              "set()"
            ]
          },
          "metadata": {},
          "execution_count": 109
        }
      ]
    },
    {
      "cell_type": "code",
      "source": [
        "# del days\n",
        "# print(days)"
      ],
      "metadata": {
        "id": "6EkVgbzCcAO0"
      },
      "execution_count": null,
      "outputs": []
    },
    {
      "cell_type": "markdown",
      "source": [
        "## Dictionaries"
      ],
      "metadata": {
        "id": "-9mssaCC5QzB"
      }
    },
    {
      "cell_type": "code",
      "source": [
        "#set dictionary\n",
        "my_cat = {'name': 'Fluffy', 'age': 2,'color': 'black'}"
      ],
      "metadata": {
        "id": "0UVbER_A5Tsa"
      },
      "execution_count": null,
      "outputs": []
    },
    {
      "cell_type": "code",
      "source": [
        "#check type\n",
        "type(my_cat)"
      ],
      "metadata": {
        "id": "hzLgRLJv5Tpg",
        "colab": {
          "base_uri": "https://localhost:8080/"
        },
        "outputId": "7617d442-366d-49bf-d47f-a976be326539"
      },
      "execution_count": null,
      "outputs": [
        {
          "output_type": "execute_result",
          "data": {
            "text/plain": [
              "dict"
            ]
          },
          "metadata": {},
          "execution_count": 117
        }
      ]
    },
    {
      "cell_type": "code",
      "source": [
        "#functions for set\n",
        "dir(my_cat)"
      ],
      "metadata": {
        "id": "p-8zIznn5Tmu",
        "colab": {
          "base_uri": "https://localhost:8080/"
        },
        "outputId": "997f4d97-034d-452f-f292-0b87559a96be"
      },
      "execution_count": null,
      "outputs": [
        {
          "output_type": "execute_result",
          "data": {
            "text/plain": [
              "['__add__',\n",
              " '__class__',\n",
              " '__contains__',\n",
              " '__delattr__',\n",
              " '__dir__',\n",
              " '__doc__',\n",
              " '__eq__',\n",
              " '__format__',\n",
              " '__ge__',\n",
              " '__getattribute__',\n",
              " '__getitem__',\n",
              " '__getnewargs__',\n",
              " '__gt__',\n",
              " '__hash__',\n",
              " '__init__',\n",
              " '__init_subclass__',\n",
              " '__iter__',\n",
              " '__le__',\n",
              " '__len__',\n",
              " '__lt__',\n",
              " '__mod__',\n",
              " '__mul__',\n",
              " '__ne__',\n",
              " '__new__',\n",
              " '__reduce__',\n",
              " '__reduce_ex__',\n",
              " '__repr__',\n",
              " '__rmod__',\n",
              " '__rmul__',\n",
              " '__setattr__',\n",
              " '__sizeof__',\n",
              " '__str__',\n",
              " '__subclasshook__',\n",
              " 'capitalize',\n",
              " 'casefold',\n",
              " 'center',\n",
              " 'count',\n",
              " 'encode',\n",
              " 'endswith',\n",
              " 'expandtabs',\n",
              " 'find',\n",
              " 'format',\n",
              " 'format_map',\n",
              " 'index',\n",
              " 'isalnum',\n",
              " 'isalpha',\n",
              " 'isascii',\n",
              " 'isdecimal',\n",
              " 'isdigit',\n",
              " 'isidentifier',\n",
              " 'islower',\n",
              " 'isnumeric',\n",
              " 'isprintable',\n",
              " 'isspace',\n",
              " 'istitle',\n",
              " 'isupper',\n",
              " 'join',\n",
              " 'ljust',\n",
              " 'lower',\n",
              " 'lstrip',\n",
              " 'maketrans',\n",
              " 'partition',\n",
              " 'removeprefix',\n",
              " 'removesuffix',\n",
              " 'replace',\n",
              " 'rfind',\n",
              " 'rindex',\n",
              " 'rjust',\n",
              " 'rpartition',\n",
              " 'rsplit',\n",
              " 'rstrip',\n",
              " 'split',\n",
              " 'splitlines',\n",
              " 'startswith',\n",
              " 'strip',\n",
              " 'swapcase',\n",
              " 'title',\n",
              " 'translate',\n",
              " 'upper',\n",
              " 'zfill']"
            ]
          },
          "metadata": {},
          "execution_count": 100
        }
      ]
    },
    {
      "cell_type": "code",
      "source": [
        "#print value for key\n",
        "print(my_cat['name'])"
      ],
      "metadata": {
        "colab": {
          "base_uri": "https://localhost:8080/"
        },
        "id": "Z9tPMfPWghX3",
        "outputId": "bec5fa55-1016-42c8-c96d-5eb224064b57"
      },
      "execution_count": null,
      "outputs": [
        {
          "output_type": "stream",
          "name": "stdout",
          "text": [
            "Fluffy\n"
          ]
        }
      ]
    },
    {
      "cell_type": "code",
      "source": [
        "#print value for key\n",
        "print(my_cat.get('age'))"
      ],
      "metadata": {
        "colab": {
          "base_uri": "https://localhost:8080/"
        },
        "id": "qHfQm2CjhXYQ",
        "outputId": "cda8c8b9-3f50-4432-a8f2-dcb8cfa845a4"
      },
      "execution_count": null,
      "outputs": [
        {
          "output_type": "stream",
          "name": "stdout",
          "text": [
            "2\n"
          ]
        }
      ]
    },
    {
      "cell_type": "code",
      "source": [
        "#print all values\n",
        "print(my_cat.values())"
      ],
      "metadata": {
        "colab": {
          "base_uri": "https://localhost:8080/"
        },
        "id": "V4-hGOL5hfYP",
        "outputId": "152fd6fc-f33e-4f60-b040-bac7de76c0cc"
      },
      "execution_count": null,
      "outputs": [
        {
          "output_type": "stream",
          "name": "stdout",
          "text": [
            "dict_values(['Fluffy', 2, 'black'])\n"
          ]
        }
      ]
    },
    {
      "cell_type": "code",
      "source": [
        "#print all keys\n",
        "print(my_cat.keys())"
      ],
      "metadata": {
        "colab": {
          "base_uri": "https://localhost:8080/"
        },
        "id": "mfcz72Mphqm5",
        "outputId": "fc853827-cf2e-4998-cb2d-abdf6578e81d"
      },
      "execution_count": null,
      "outputs": [
        {
          "output_type": "stream",
          "name": "stdout",
          "text": [
            "dict_keys(['name', 'age', 'color'])\n"
          ]
        }
      ]
    },
    {
      "cell_type": "code",
      "source": [
        "#print all key value paris\n",
        "my_cat"
      ],
      "metadata": {
        "colab": {
          "base_uri": "https://localhost:8080/"
        },
        "id": "CBtFJg7DhteA",
        "outputId": "067faf87-1289-45aa-afde-7afcd2a1b8df"
      },
      "execution_count": null,
      "outputs": [
        {
          "output_type": "execute_result",
          "data": {
            "text/plain": [
              "{'name': 'Fluffy', 'age': 2, 'color': 'black'}"
            ]
          },
          "metadata": {},
          "execution_count": 123
        }
      ]
    },
    {
      "cell_type": "code",
      "source": [
        "#print all items\n",
        "print(my_cat.items())"
      ],
      "metadata": {
        "colab": {
          "base_uri": "https://localhost:8080/"
        },
        "id": "HZ8IRklRhwyX",
        "outputId": "c694fde4-7253-48a0-c160-06974870e62c"
      },
      "execution_count": null,
      "outputs": [
        {
          "output_type": "stream",
          "name": "stdout",
          "text": [
            "dict_items([('name', 'Fluffy'), ('age', 2), ('color', 'black')])\n"
          ]
        }
      ]
    },
    {
      "cell_type": "code",
      "source": [
        "#print if something is in dict\n",
        "print('name' in my_cat)"
      ],
      "metadata": {
        "colab": {
          "base_uri": "https://localhost:8080/"
        },
        "id": "4U_LsFSWh2kg",
        "outputId": "48fd159a-4da6-493d-a91c-efa6c50bf4c7"
      },
      "execution_count": null,
      "outputs": [
        {
          "output_type": "stream",
          "name": "stdout",
          "text": [
            "True\n"
          ]
        }
      ]
    },
    {
      "cell_type": "code",
      "source": [
        "#print if something is in dict\n",
        "print('fluffyness' in my_cat)"
      ],
      "metadata": {
        "colab": {
          "base_uri": "https://localhost:8080/"
        },
        "id": "toNHjpHyh83Y",
        "outputId": "01d54aaa-ba5a-4c76-f343-f05bb2d9ae5d"
      },
      "execution_count": null,
      "outputs": [
        {
          "output_type": "stream",
          "name": "stdout",
          "text": [
            "False\n"
          ]
        }
      ]
    },
    {
      "cell_type": "markdown",
      "source": [
        "#### updating dictionaries functions"
      ],
      "metadata": {
        "id": "Tg5VWfYLiA7A"
      }
    },
    {
      "cell_type": "code",
      "source": [
        "#add new key value pair\n",
        "print(my_cat)\n",
        "my_cat['gender'] = 'male'\n",
        "print(my_cat)\n"
      ],
      "metadata": {
        "colab": {
          "base_uri": "https://localhost:8080/"
        },
        "id": "gUG1yW6XiJB4",
        "outputId": "e73ba500-76eb-40a5-d3ac-542309b15acb"
      },
      "execution_count": null,
      "outputs": [
        {
          "output_type": "stream",
          "name": "stdout",
          "text": [
            "{'name': 'Fluffy', 'age': 2, 'color': 'black'}\n",
            "{'name': 'Fluffy', 'age': 2, 'color': 'black', 'gender': 'male'}\n"
          ]
        }
      ]
    },
    {
      "cell_type": "code",
      "source": [
        "#print pairs in dict\n",
        "my_cat"
      ],
      "metadata": {
        "colab": {
          "base_uri": "https://localhost:8080/"
        },
        "id": "gTG3QfskiI_G",
        "outputId": "5096862e-bdac-4f1f-bcf8-141a2aec1265"
      },
      "execution_count": null,
      "outputs": [
        {
          "output_type": "execute_result",
          "data": {
            "text/plain": [
              "{'name': 'Fluffy', 'age': 2, 'color': 'black', 'gender': 'male'}"
            ]
          },
          "metadata": {},
          "execution_count": 128
        }
      ]
    },
    {
      "cell_type": "code",
      "source": [
        "#remove last pair\n",
        "my_cat.pop('color')\n",
        "print(my_cat)"
      ],
      "metadata": {
        "colab": {
          "base_uri": "https://localhost:8080/"
        },
        "id": "Y28tohkZiI8g",
        "outputId": "db13de17-a0cc-4e6a-ea25-dcbda8fbdf94"
      },
      "execution_count": null,
      "outputs": [
        {
          "output_type": "stream",
          "name": "stdout",
          "text": [
            "{'name': 'Fluffy', 'age': 2, 'gender': 'male'}\n"
          ]
        }
      ]
    },
    {
      "cell_type": "code",
      "source": [
        "#remove specific pair\n",
        "my_cat.popitem()\n",
        "print(my_cat)"
      ],
      "metadata": {
        "colab": {
          "base_uri": "https://localhost:8080/"
        },
        "id": "lpCgOKaFiI5h",
        "outputId": "db6cffac-9739-4f2d-d1ef-fe1d8eab8e4c"
      },
      "execution_count": null,
      "outputs": [
        {
          "output_type": "stream",
          "name": "stdout",
          "text": [
            "{'name': 'Fluffy', 'age': 2}\n"
          ]
        }
      ]
    },
    {
      "cell_type": "code",
      "source": [
        "#empty set\n",
        "# my_cat.clear()\n",
        "# print(my_cat)\n"
      ],
      "metadata": {
        "id": "P9fw_cdCiI2f"
      },
      "execution_count": null,
      "outputs": []
    },
    {
      "cell_type": "code",
      "source": [
        "#delete specific pair\n",
        "# del my_cat['age']\n",
        "# print(my_cat)"
      ],
      "metadata": {
        "id": "CdaxUp5miIzM"
      },
      "execution_count": null,
      "outputs": []
    },
    {
      "cell_type": "code",
      "source": [
        "#change value of key\n",
        "my_cat['name'] = 'Fluffer'\n",
        "print(my_cat)\n"
      ],
      "metadata": {
        "colab": {
          "base_uri": "https://localhost:8080/"
        },
        "id": "xw0KB8JWiIwK",
        "outputId": "5389ebe7-af40-4b83-c680-15516d3ba219"
      },
      "execution_count": null,
      "outputs": [
        {
          "output_type": "stream",
          "name": "stdout",
          "text": [
            "{'name': 'Fluffer', 'age': 2}\n"
          ]
        }
      ]
    },
    {
      "cell_type": "markdown",
      "source": [
        "#### nesting dictionaries"
      ],
      "metadata": {
        "id": "aLwRANjQisRA"
      }
    },
    {
      "cell_type": "code",
      "source": [
        "#dictionaries can be nested\n",
        "family = {\n",
        "    \"child1\": {\n",
        "        'name': 'Alex',\n",
        "        'year': 2004\n",
        "    },\n",
        "\n",
        "    'child2': {\n",
        "        'name': 'Monica',\n",
        "        'year': 2007\n",
        "    }\n",
        "}\n"
      ],
      "metadata": {
        "id": "OkPiV4cWix7O"
      },
      "execution_count": null,
      "outputs": []
    },
    {
      "cell_type": "code",
      "source": [
        "#print out nested dict\n",
        "family"
      ],
      "metadata": {
        "colab": {
          "base_uri": "https://localhost:8080/"
        },
        "id": "CfPyKATuix3s",
        "outputId": "abc917bd-de99-4396-e159-3c1d5fe913c9"
      },
      "execution_count": null,
      "outputs": [
        {
          "output_type": "execute_result",
          "data": {
            "text/plain": [
              "{'child1': {'name': 'Alex', 'year': 2004},\n",
              " 'child2': {'name': 'Monica', 'year': 2007}}"
            ]
          },
          "metadata": {},
          "execution_count": 135
        }
      ]
    },
    {
      "cell_type": "markdown",
      "source": [
        "#Conditionals"
      ],
      "metadata": {
        "id": "GJ-GTLWNoRlh"
      }
    },
    {
      "cell_type": "markdown",
      "source": [
        "##`if` statement"
      ],
      "metadata": {
        "id": "pClbLptvoUb4"
      }
    },
    {
      "cell_type": "code",
      "source": [
        "night = True\n",
        "#set night to true"
      ],
      "metadata": {
        "id": "lOappG2voXvG"
      },
      "execution_count": null,
      "outputs": []
    },
    {
      "cell_type": "code",
      "source": [
        "type(night)\n",
        "#boolean type"
      ],
      "metadata": {
        "colab": {
          "base_uri": "https://localhost:8080/"
        },
        "id": "-LkotBaAoc3j",
        "outputId": "b466890c-b2a7-482b-d784-95050f619eea"
      },
      "execution_count": null,
      "outputs": [
        {
          "output_type": "execute_result",
          "data": {
            "text/plain": [
              "bool"
            ]
          },
          "metadata": {},
          "execution_count": 61
        }
      ]
    },
    {
      "cell_type": "code",
      "source": [
        "if (night):\n",
        "  print(\"sleep\")\n",
        "else:\n",
        "  print(\"stay up\")\n",
        "print(\"hi this is out of the loop\")\n",
        "#if night is true, sleep\n",
        "#else if night is not true, stay up\n",
        "#prints \"hi this is out of the loop\" regardless since it is out of the loop"
      ],
      "metadata": {
        "colab": {
          "base_uri": "https://localhost:8080/"
        },
        "id": "qI8j6wcooheH",
        "outputId": "0cb28ab3-ff58-4ebf-f294-495f410d8f18"
      },
      "execution_count": null,
      "outputs": [
        {
          "output_type": "stream",
          "name": "stdout",
          "text": [
            "sleep\n",
            "hi this is out of the loop\n"
          ]
        }
      ]
    },
    {
      "cell_type": "code",
      "source": [
        "a, b, c = 100, 50, 20\n",
        "if a > b and b > c:\n",
        "  print(f\"{a} greater than {c}\")\n",
        "#print a greater than c if both are true"
      ],
      "metadata": {
        "colab": {
          "base_uri": "https://localhost:8080/"
        },
        "id": "Jmcxzda1ovK4",
        "outputId": "a8fdc213-71f1-464d-c454-e4dc76e61ad4"
      },
      "execution_count": null,
      "outputs": [
        {
          "output_type": "stream",
          "name": "stdout",
          "text": [
            "100 greater than 20\n"
          ]
        }
      ]
    },
    {
      "cell_type": "code",
      "source": [
        "data = input(\"do you have car keys? (yes/no) \")\n",
        "if data.lower() == \"yes\":\n",
        "  print(\"starting the car\")\n",
        "else:\n",
        "  print(\"car cannot start without the keys\")\n",
        "#if statement with user input"
      ],
      "metadata": {
        "colab": {
          "base_uri": "https://localhost:8080/"
        },
        "id": "GYEIDlUm4JVF",
        "outputId": "9a2477d4-909c-498a-bb3c-9dcf10b64fa1"
      },
      "execution_count": null,
      "outputs": [
        {
          "output_type": "stream",
          "name": "stdout",
          "text": [
            "do you have car keys? (yes/no) yes\n",
            "starting the car\n"
          ]
        }
      ]
    },
    {
      "cell_type": "markdown",
      "source": [
        "###nested `if` statement"
      ],
      "metadata": {
        "id": "IeIhN8u35h_O"
      }
    },
    {
      "cell_type": "code",
      "source": [
        "pet_store = ['cat', 'dog', 'rabbit']\n",
        "has_cat_food = True\n",
        "\n",
        "if 'cat' in pet_store:\n",
        "  print(\"they have a cat\")\n",
        "  if has_cat_food:\n",
        "    print(\"buying cat and cat food\")\n",
        "  else:\n",
        "    print(\"buying only a cat\")\n",
        "\n",
        "else:\n",
        "  print(\"ask for the store to get a cat\")\n",
        "#nest if statement"
      ],
      "metadata": {
        "colab": {
          "base_uri": "https://localhost:8080/"
        },
        "id": "vUAaKgJS4ytH",
        "outputId": "9b93008a-35b9-4d90-ae55-b33810faacd5"
      },
      "execution_count": null,
      "outputs": [
        {
          "output_type": "stream",
          "name": "stdout",
          "text": [
            "they have a cat\n",
            "buying cat and cat food\n"
          ]
        }
      ]
    },
    {
      "cell_type": "markdown",
      "source": [
        "###`elif` statement"
      ],
      "metadata": {
        "id": "QKG8JS716krs"
      }
    },
    {
      "cell_type": "code",
      "source": [
        "age = 23\n",
        "\n",
        "if age < 18:\n",
        "  print(\"you are a minor\")\n",
        "elif age < 21:\n",
        "  print(\"you cant drink yet\")\n",
        "else:\n",
        "  print(\"you are old\")\n",
        "#elif = else if, keeps going until else if above if/elif are false"
      ],
      "metadata": {
        "id": "ufidD_Ai5Q4u"
      },
      "execution_count": null,
      "outputs": []
    },
    {
      "cell_type": "markdown",
      "source": [
        "###shorthand `if` statement"
      ],
      "metadata": {
        "id": "7TO9MA2h6pzO"
      }
    },
    {
      "cell_type": "code",
      "source": [
        "a, b = 50, 20\n",
        "if a > b: print(\"a > b\")\n",
        "#if something, do something"
      ],
      "metadata": {
        "colab": {
          "base_uri": "https://localhost:8080/"
        },
        "id": "d4LAiSfa6sJ5",
        "outputId": "18248d36-238a-4b8e-9151-cce4881303f3"
      },
      "execution_count": null,
      "outputs": [
        {
          "output_type": "stream",
          "name": "stdout",
          "text": [
            "a > b\n"
          ]
        }
      ]
    },
    {
      "cell_type": "code",
      "source": [
        "print(\"a > b\") if a > b else print(\"b > a\")\n",
        "#do something if something else do something else"
      ],
      "metadata": {
        "colab": {
          "base_uri": "https://localhost:8080/"
        },
        "id": "AP2UpI_46xtY",
        "outputId": "073d6499-ead9-4769-c0da-21c416e228e5"
      },
      "execution_count": null,
      "outputs": [
        {
          "output_type": "stream",
          "name": "stdout",
          "text": [
            "a > b\n"
          ]
        }
      ]
    },
    {
      "cell_type": "code",
      "source": [
        "max = a if a > b else b\n",
        "print(max)\n",
        "#same as above"
      ],
      "metadata": {
        "colab": {
          "base_uri": "https://localhost:8080/"
        },
        "id": "6Ddmp_4y61mp",
        "outputId": "a5efa72c-3587-4754-d0ff-428232e207f4"
      },
      "execution_count": null,
      "outputs": [
        {
          "output_type": "stream",
          "name": "stdout",
          "text": [
            "50\n"
          ]
        }
      ]
    },
    {
      "cell_type": "markdown",
      "source": [
        "###`pass` keyword"
      ],
      "metadata": {
        "id": "Om0p1_cu65pD"
      }
    },
    {
      "cell_type": "code",
      "source": [
        "has_cat = False\n",
        "if has_cat:\n",
        "  pass\n",
        "else:\n",
        "  print(\"get a cat\")\n",
        "#pass does nothing"
      ],
      "metadata": {
        "colab": {
          "base_uri": "https://localhost:8080/"
        },
        "id": "4GyaxTjr7Eyh",
        "outputId": "f2528902-a1ad-489a-af55-34301c9d9086"
      },
      "execution_count": null,
      "outputs": [
        {
          "output_type": "stream",
          "name": "stdout",
          "text": [
            "get a cat\n"
          ]
        }
      ]
    },
    {
      "cell_type": "code",
      "source": [
        "has_dog = True\n",
        "if has_dog:\n",
        "  print(\"cool\")\n",
        "else:\n",
        "  pass\n",
        "#skip codeblock if false"
      ],
      "metadata": {
        "colab": {
          "base_uri": "https://localhost:8080/"
        },
        "id": "stIk7h_u7pBU",
        "outputId": "d601124b-0104-4003-ca7f-26320fe9389a"
      },
      "execution_count": null,
      "outputs": [
        {
          "output_type": "stream",
          "name": "stdout",
          "text": [
            "cool\n"
          ]
        }
      ]
    },
    {
      "cell_type": "markdown",
      "source": [
        "###examples"
      ],
      "metadata": {
        "id": "P82Ia9319Vfn"
      }
    },
    {
      "cell_type": "code",
      "source": [
        "import random\n",
        "nb = random.randint(0, 100)\n",
        "print(f\"number {nb} is even\") if nb%2 == 0 else print(f\"number {nb} is odd\")\n",
        "#import random and use random number generator from 0 from 100"
      ],
      "metadata": {
        "colab": {
          "base_uri": "https://localhost:8080/"
        },
        "id": "lKicn4HK9Xi1",
        "outputId": "01fec516-846c-49f3-d256-be3aeac5a716"
      },
      "execution_count": null,
      "outputs": [
        {
          "output_type": "stream",
          "name": "stdout",
          "text": [
            "number 50 is even\n"
          ]
        }
      ]
    },
    {
      "cell_type": "code",
      "source": [
        "numb = int(input(\"enter a number from 0-100: \"))\n",
        "print(f\"number {num} is even\") if numb%2 == 0 else print(f\"Number {numb} is odd\")\n",
        "#user input"
      ],
      "metadata": {
        "colab": {
          "base_uri": "https://localhost:8080/"
        },
        "id": "KQgxTw1-9nIR",
        "outputId": "5d35ca42-6adf-42e8-c7b3-31405688031e"
      },
      "execution_count": null,
      "outputs": [
        {
          "output_type": "stream",
          "name": "stdout",
          "text": [
            "enter a number from 0-100: 55\n",
            "Number 55 is odd\n"
          ]
        }
      ]
    },
    {
      "cell_type": "code",
      "source": [
        "#problem 1:\n",
        "cart = [\"nails\", \"powerdrill\", \"wooden boards\"]\n",
        "if \"hammer\" in cart:\n",
        "  print(\"there is a hammer in your cart\")\n",
        "else:\n",
        "  print(\"there is no hammer in your cart\")"
      ],
      "metadata": {
        "colab": {
          "base_uri": "https://localhost:8080/"
        },
        "id": "epHFE-De9-lL",
        "outputId": "228f155b-bc23-4459-d34c-adc53f2c72a3"
      },
      "execution_count": null,
      "outputs": [
        {
          "output_type": "stream",
          "name": "stdout",
          "text": [
            "there is a hammer in your cart\n"
          ]
        }
      ]
    },
    {
      "cell_type": "code",
      "source": [
        "#problem 2:\n",
        "cart = [\"nails\", \"powerdrill\", \"wooden boards\", \"wooden boards\"]\n",
        "if len(cart) > len(set(cart)):\n",
        "  print(\"there are duplicate items in your cart\")\n",
        "else:\n",
        "  print(\"there are no duplicate items in your cart\")"
      ],
      "metadata": {
        "colab": {
          "base_uri": "https://localhost:8080/"
        },
        "id": "AOFdpKZeBA63",
        "outputId": "535f61d9-f974-47a7-f7a3-427d8749231e"
      },
      "execution_count": null,
      "outputs": [
        {
          "output_type": "stream",
          "name": "stdout",
          "text": [
            "there are duplicate items in your cart\n"
          ]
        }
      ]
    },
    {
      "cell_type": "code",
      "source": [
        "#problem 3:\n",
        "address = \"524 W 59th St, New York, NY 10019\"\n",
        "response = input(f\"are you at this address: {address}? yes or no: \")\n",
        "if response.lower() == \"yes\":\n",
        "  print(\"great we will meet shortly\")\n",
        "else:\n",
        "  print(\"please get here soon\")"
      ],
      "metadata": {
        "colab": {
          "base_uri": "https://localhost:8080/"
        },
        "id": "DIaMHf11A43q",
        "outputId": "6034dc4b-eecb-4cc7-84b8-47acaf81c8db"
      },
      "execution_count": null,
      "outputs": [
        {
          "output_type": "stream",
          "name": "stdout",
          "text": [
            "are you at this address: 524 W 59th St, New York, NY 10019? yes or no: no\n",
            "please get here soon\n"
          ]
        }
      ]
    },
    {
      "cell_type": "code",
      "source": [
        "#problem 4:\n",
        "#set variables\n",
        "client_funds, price, client_products = 110, 50, 0\n",
        "if client_funds >= price: #if client_funds is greater than or equal to price\n",
        "    #buy the max number of products and set it to the products variable\n",
        "    client_products += client_funds // price\n",
        "    #get the remainder and set it to client_funds\n",
        "    client_funds %= price\n",
        "    #print the number of products the client has\n",
        "    print(f\"You have {client_products} product(s)\")\n",
        "    #print the amount of client_funds the client has\n",
        "    print(f\"You have {client_funds}$ left\")\n",
        "    # continue purchase flow\n",
        "else: #if the client_funds is lesser than the price\n",
        "    #print a string telling the client they have insufficient funds\n",
        "    print(\"You have insufficient funds\")"
      ],
      "metadata": {
        "id": "Q0QxpZacCGUr"
      },
      "execution_count": null,
      "outputs": []
    },
    {
      "cell_type": "markdown",
      "source": [
        "# Loops"
      ],
      "metadata": {
        "id": "avkHk-bk9GLN"
      }
    },
    {
      "cell_type": "markdown",
      "source": [
        "##`for` loop"
      ],
      "metadata": {
        "id": "NA1vJTdE9GIR"
      }
    },
    {
      "cell_type": "code",
      "source": [
        "#cycle through the list and print them out\n",
        "animals = ['cat', 'dog', 'horse']\n",
        "for animal in animals:\n",
        "    print(f\"There is a {animal}\")"
      ],
      "metadata": {
        "colab": {
          "base_uri": "https://localhost:8080/"
        },
        "id": "y0gOneuT9GFJ",
        "outputId": "acd7523b-ece6-4b0e-d440-46603125f5df"
      },
      "execution_count": null,
      "outputs": [
        {
          "output_type": "stream",
          "name": "stdout",
          "text": [
            "There is a cat\n",
            "There is a dog\n",
            "There is a horse\n"
          ]
        }
      ]
    },
    {
      "cell_type": "code",
      "source": [
        "#print everything in uppercase\n",
        "for letter in 'pineapple':\n",
        "    print(letter.upper())"
      ],
      "metadata": {
        "colab": {
          "base_uri": "https://localhost:8080/"
        },
        "id": "_9bzWmImAvuP",
        "outputId": "35eb0089-ddfc-40f7-89e8-e5fd1fd1e990"
      },
      "execution_count": null,
      "outputs": [
        {
          "output_type": "stream",
          "name": "stdout",
          "text": [
            "P\n",
            "I\n",
            "N\n",
            "E\n",
            "A\n",
            "P\n",
            "P\n",
            "L\n",
            "E\n"
          ]
        }
      ]
    },
    {
      "cell_type": "code",
      "source": [
        "#print every other number from 0 to 20\n",
        "for number in range(0, 20, 2):\n",
        "    print(f\"{number} is an even number\")\n"
      ],
      "metadata": {
        "colab": {
          "base_uri": "https://localhost:8080/"
        },
        "id": "RtZD_cSgAvq9",
        "outputId": "a24a981f-f410-44bf-93ef-5e8c84876209"
      },
      "execution_count": null,
      "outputs": [
        {
          "output_type": "stream",
          "name": "stdout",
          "text": [
            "0 is an even number\n",
            "2 is an even number\n",
            "4 is an even number\n",
            "6 is an even number\n",
            "8 is an even number\n",
            "10 is an even number\n",
            "12 is an even number\n",
            "14 is an even number\n",
            "16 is an even number\n",
            "18 is an even number\n"
          ]
        }
      ]
    },
    {
      "cell_type": "markdown",
      "source": [
        "#### `break` and `continue`"
      ],
      "metadata": {
        "id": "MOqpf6vYAvn0"
      }
    },
    {
      "cell_type": "code",
      "source": [
        "#break out of loop with break\n",
        "for number in range(0, 20, 2):\n",
        "    print(f\"{number} is an even number\")\n",
        "    if number == 10:\n",
        "        print(\"On ho! Not 10\")\n",
        "        break\n",
        "print(\"Next steps in out code\")\n"
      ],
      "metadata": {
        "colab": {
          "base_uri": "https://localhost:8080/"
        },
        "id": "vQhUW4kuAvlL",
        "outputId": "ea4c3544-4ea3-4234-daaf-f0f587234381"
      },
      "execution_count": null,
      "outputs": [
        {
          "output_type": "stream",
          "name": "stdout",
          "text": [
            "0 is an even number\n",
            "2 is an even number\n",
            "4 is an even number\n",
            "6 is an even number\n",
            "8 is an even number\n",
            "10 is an even number\n",
            "On ho! Not 10\n",
            "Next steps in out code\n"
          ]
        }
      ]
    },
    {
      "cell_type": "code",
      "source": [
        "#continue the for loop but skip everything after in that iteration\n",
        "for number in range(0, 20, 2):\n",
        "    if number == 10:\n",
        "        print(\"We are not executing 10\")\n",
        "        continue\n",
        "    print(f\"{number} is an even number\")"
      ],
      "metadata": {
        "colab": {
          "base_uri": "https://localhost:8080/"
        },
        "id": "QGpnU--oAvh5",
        "outputId": "c01fec1c-18bf-4079-f122-72bc7ef784b7"
      },
      "execution_count": null,
      "outputs": [
        {
          "output_type": "stream",
          "name": "stdout",
          "text": [
            "0 is an even number\n",
            "2 is an even number\n",
            "4 is an even number\n",
            "6 is an even number\n",
            "8 is an even number\n",
            "We are not executing 10\n",
            "12 is an even number\n",
            "14 is an even number\n",
            "16 is an even number\n",
            "18 is an even number\n"
          ]
        }
      ]
    },
    {
      "cell_type": "markdown",
      "source": [
        "#### practice"
      ],
      "metadata": {
        "id": "3DrPQWN3AvfH"
      }
    },
    {
      "cell_type": "code",
      "source": [
        "#print something ten times\n",
        "for i in range(0, 10):\n",
        "    print(\"Hello for loop\")\n"
      ],
      "metadata": {
        "colab": {
          "base_uri": "https://localhost:8080/"
        },
        "id": "15o6GY0LAvb_",
        "outputId": "6d737b7e-2afb-4252-9a4f-c2d9e997be9d"
      },
      "execution_count": null,
      "outputs": [
        {
          "output_type": "stream",
          "name": "stdout",
          "text": [
            "Hello for loop\n",
            "Hello for loop\n",
            "Hello for loop\n",
            "Hello for loop\n",
            "Hello for loop\n",
            "Hello for loop\n",
            "Hello for loop\n",
            "Hello for loop\n",
            "Hello for loop\n",
            "Hello for loop\n"
          ]
        }
      ]
    },
    {
      "cell_type": "code",
      "source": [
        "#add the numbers from 0 to 101 excluding the ones that are divisible by 10\n",
        "sum = 0\n",
        "for number in range(0, 101):\n",
        "    if number % 10 == 0:\n",
        "        continue\n",
        "    sum += number\n",
        "print(f\"The sum is {sum}\")"
      ],
      "metadata": {
        "colab": {
          "base_uri": "https://localhost:8080/"
        },
        "id": "M34qYiKiAvY2",
        "outputId": "85975860-9ef5-416d-879e-08a2584d88a3"
      },
      "execution_count": null,
      "outputs": [
        {
          "output_type": "stream",
          "name": "stdout",
          "text": [
            "The sum is 4500\n"
          ]
        }
      ]
    },
    {
      "cell_type": "code",
      "source": [
        "#set dictionary and print them out\n",
        "customers = {\n",
        "    'Alice': 4,\n",
        "    'Judy': 8,\n",
        "    'Anna': 6\n",
        "}\n",
        "for customer in customers:\n",
        "    print(\"{} has made {} purchases\".format(customer, customers[customer]))\n"
      ],
      "metadata": {
        "colab": {
          "base_uri": "https://localhost:8080/"
        },
        "id": "kL_ohNOm9GB6",
        "outputId": "b7fee2ce-e5ea-4177-acd6-169da4e46bc9"
      },
      "execution_count": null,
      "outputs": [
        {
          "output_type": "stream",
          "name": "stdout",
          "text": [
            "Alice has made 4 purchases\n",
            "Judy has made 8 purchases\n",
            "Anna has made 6 purchases\n"
          ]
        }
      ]
    },
    {
      "cell_type": "markdown",
      "source": [
        "#### using `else` with `for` loops"
      ],
      "metadata": {
        "id": "3FxWOHuIBYXD"
      }
    },
    {
      "cell_type": "code",
      "source": [
        "numbers1 = [1, 3, 9, 5, 7, 3]\n",
        "numbers2 = [2, 8, 6, 2, 4, 10]\n",
        "\n",
        "for number in numbers1:\n",
        "    if number % 2 == 0:\n",
        "      print(\"List contains at least 1 even number\")\n",
        "      break\n",
        "else:\n",
        "    print(\"The list does not contain any even numbers\")\n",
        "#does else if none are true"
      ],
      "metadata": {
        "id": "EwlC2HMEBYUb"
      },
      "execution_count": null,
      "outputs": []
    },
    {
      "cell_type": "markdown",
      "source": [
        "#### nested loops"
      ],
      "metadata": {
        "id": "Yiash3amBYSD"
      }
    },
    {
      "cell_type": "code",
      "source": [
        "#prints x * y for all possibles combinations from 0 to 5\n",
        "for x in range(6):\n",
        "    for y in range(6):\n",
        "        print(f\"{x} * {y} = {x * y}\")\n"
      ],
      "metadata": {
        "colab": {
          "base_uri": "https://localhost:8080/"
        },
        "id": "9JAswvH3BYO6",
        "outputId": "555ca0a1-d3e7-4b42-e12e-a0e8b1c7c3ce"
      },
      "execution_count": null,
      "outputs": [
        {
          "output_type": "stream",
          "name": "stdout",
          "text": [
            "0 * 0 = 0\n",
            "0 * 1 = 0\n",
            "0 * 2 = 0\n",
            "0 * 3 = 0\n",
            "0 * 4 = 0\n",
            "0 * 5 = 0\n",
            "1 * 0 = 0\n",
            "1 * 1 = 1\n",
            "1 * 2 = 2\n",
            "1 * 3 = 3\n",
            "1 * 4 = 4\n",
            "1 * 5 = 5\n",
            "2 * 0 = 0\n",
            "2 * 1 = 2\n",
            "2 * 2 = 4\n",
            "2 * 3 = 6\n",
            "2 * 4 = 8\n",
            "2 * 5 = 10\n",
            "3 * 0 = 0\n",
            "3 * 1 = 3\n",
            "3 * 2 = 6\n",
            "3 * 3 = 9\n",
            "3 * 4 = 12\n",
            "3 * 5 = 15\n",
            "4 * 0 = 0\n",
            "4 * 1 = 4\n",
            "4 * 2 = 8\n",
            "4 * 3 = 12\n",
            "4 * 4 = 16\n",
            "4 * 5 = 20\n",
            "5 * 0 = 0\n",
            "5 * 1 = 5\n",
            "5 * 2 = 10\n",
            "5 * 3 = 15\n",
            "5 * 4 = 20\n",
            "5 * 5 = 25\n"
          ]
        }
      ]
    },
    {
      "cell_type": "code",
      "source": [
        "#print all coordinates from 0 to 4\n",
        "size = 5\n",
        "for x in range(size):\n",
        "    for y in range(size):\n",
        "        print(f\"{x},{y}\\t\\t\", end='')\n",
        "    print()\n"
      ],
      "metadata": {
        "colab": {
          "base_uri": "https://localhost:8080/"
        },
        "id": "hUUkJ80U9F-n",
        "outputId": "6709480e-5c0d-437e-8fd6-0d67ab9c56da"
      },
      "execution_count": null,
      "outputs": [
        {
          "output_type": "stream",
          "name": "stdout",
          "text": [
            "0,0\t\t0,1\t\t0,2\t\t0,3\t\t0,4\t\t\n",
            "1,0\t\t1,1\t\t1,2\t\t1,3\t\t1,4\t\t\n",
            "2,0\t\t2,1\t\t2,2\t\t2,3\t\t2,4\t\t\n",
            "3,0\t\t3,1\t\t3,2\t\t3,3\t\t3,4\t\t\n",
            "4,0\t\t4,1\t\t4,2\t\t4,3\t\t4,4\t\t\n"
          ]
        }
      ]
    },
    {
      "cell_type": "code",
      "source": [
        "#print heart emoji if x+y is even or happy emoji if x+y is odd\n",
        "#repeat x*y times, which is 25 times\n",
        "for x in range(size):\n",
        "    for y in range(size):\n",
        "        if (x + y) % 2:\n",
        "            print(\"\\U0001F600\\t\", end='')\n",
        "        else:\n",
        "            print(\"\\U0001F60D\\t\", end='')\n",
        "    print()\n"
      ],
      "metadata": {
        "colab": {
          "base_uri": "https://localhost:8080/"
        },
        "id": "R6wIyYflBu0p",
        "outputId": "3eb5358c-0658-4ca6-8b3f-887319b00689"
      },
      "execution_count": null,
      "outputs": [
        {
          "output_type": "stream",
          "name": "stdout",
          "text": [
            "😍\t😀\t😍\t😀\t😍\t\n",
            "😀\t😍\t😀\t😍\t😀\t\n",
            "😍\t😀\t😍\t😀\t😍\t\n",
            "😀\t😍\t😀\t😍\t😀\t\n",
            "😍\t😀\t😍\t😀\t😍\t\n"
          ]
        }
      ]
    },
    {
      "cell_type": "markdown",
      "source": [
        "##`while` loop"
      ],
      "metadata": {
        "id": "EwH8rRrJ9F7O"
      }
    },
    {
      "cell_type": "code",
      "source": [
        "#keep repeating while i < 6\n",
        "i = 0\n",
        "while i < 6:\n",
        "    print(i)\n",
        "    i += 1\n"
      ],
      "metadata": {
        "colab": {
          "base_uri": "https://localhost:8080/"
        },
        "id": "AFglem6eAu3h",
        "outputId": "cce40bc2-2e93-42ba-812c-c3a45876168d"
      },
      "execution_count": null,
      "outputs": [
        {
          "output_type": "stream",
          "name": "stdout",
          "text": [
            "0\n",
            "1\n",
            "2\n",
            "3\n",
            "4\n",
            "5\n"
          ]
        }
      ]
    },
    {
      "cell_type": "code",
      "source": [
        "# keep repeating while pieces_placed < puzzle_pieces\n",
        "puzzle_pieces = 20\n",
        "pieces_placed = 0\n",
        "\n",
        "while pieces_placed < puzzle_pieces:\n",
        "    pieces_placed += 1\n",
        "    print(f\"Piece {pieces_placed} placed\")\n"
      ],
      "metadata": {
        "colab": {
          "base_uri": "https://localhost:8080/"
        },
        "id": "0_8mUa13Au0R",
        "outputId": "97ce2a50-7439-4084-c0c5-91fa35aca865"
      },
      "execution_count": null,
      "outputs": [
        {
          "output_type": "stream",
          "name": "stdout",
          "text": [
            "Piece 1 placed\n",
            "Piece 2 placed\n",
            "Piece 3 placed\n",
            "Piece 4 placed\n",
            "Piece 5 placed\n",
            "Piece 6 placed\n",
            "Piece 7 placed\n",
            "Piece 8 placed\n",
            "Piece 9 placed\n",
            "Piece 10 placed\n",
            "Piece 11 placed\n",
            "Piece 12 placed\n",
            "Piece 13 placed\n",
            "Piece 14 placed\n",
            "Piece 15 placed\n",
            "Piece 16 placed\n",
            "Piece 17 placed\n",
            "Piece 18 placed\n",
            "Piece 19 placed\n",
            "Piece 20 placed\n"
          ]
        }
      ]
    },
    {
      "cell_type": "markdown",
      "source": [
        "#### using `else` with `while` Loops"
      ],
      "metadata": {
        "id": "sTNFP1y8AuxX"
      }
    },
    {
      "cell_type": "code",
      "source": [
        "#keep repeating while i < 10 and prints else statement if no if statements are true\n",
        "i = 1\n",
        "while i < 10:\n",
        "    i += 3\n",
        "    if i % 2 == 0:\n",
        "        print(\"Sequence contains an even number\")\n",
        "        break\n",
        "else:\n",
        "    print(\"Sequence does not contain an even number\")\n"
      ],
      "metadata": {
        "colab": {
          "base_uri": "https://localhost:8080/"
        },
        "id": "mCD6TJ7xAuut",
        "outputId": "f6f91525-ad71-4171-97bd-3c639bd4c6b2"
      },
      "execution_count": null,
      "outputs": [
        {
          "output_type": "stream",
          "name": "stdout",
          "text": [
            "Sequence contains an even number\n"
          ]
        }
      ]
    },
    {
      "cell_type": "markdown",
      "source": [
        "#### practice"
      ],
      "metadata": {
        "id": "vsluDcrXAurm"
      }
    },
    {
      "cell_type": "code",
      "source": [
        "#print hello ten times\n",
        "i = 0\n",
        "while i < 10:\n",
        "    i += 1\n",
        "    print(f\"{i}. Hello while loop\")\n"
      ],
      "metadata": {
        "colab": {
          "base_uri": "https://localhost:8080/"
        },
        "id": "YGP32zscCDyz",
        "outputId": "f01d81ba-c7a8-4733-9c97-5dcbd9c5457f"
      },
      "execution_count": null,
      "outputs": [
        {
          "output_type": "stream",
          "name": "stdout",
          "text": [
            "1. Hello while loop\n",
            "2. Hello while loop\n",
            "3. Hello while loop\n",
            "4. Hello while loop\n",
            "5. Hello while loop\n",
            "6. Hello while loop\n",
            "7. Hello while loop\n",
            "8. Hello while loop\n",
            "9. Hello while loop\n",
            "10. Hello while loop\n"
          ]
        }
      ]
    },
    {
      "cell_type": "code",
      "source": [
        "#print all the elements in the list\n",
        "cats = ['Tigger', 'Smokey', 'Sassy', 'Patch', 'Sammy']\n",
        "i = 0\n",
        "while i < len(cats):\n",
        "    print(f\"Hello {cats[i]}\")\n",
        "    i += 1\n"
      ],
      "metadata": {
        "colab": {
          "base_uri": "https://localhost:8080/"
        },
        "id": "-55iIjLUCDwB",
        "outputId": "d6b6a906-85f3-4eb4-8f4e-9e729abf7cd0"
      },
      "execution_count": null,
      "outputs": [
        {
          "output_type": "stream",
          "name": "stdout",
          "text": [
            "Hello Tigger\n",
            "Hello Smokey\n",
            "Hello Sassy\n",
            "Hello Patch\n",
            "Hello Sammy\n"
          ]
        }
      ]
    },
    {
      "cell_type": "code",
      "source": [
        "#print all the factorials from 0 up to the user input number\n",
        "number = int(input(\"Please enter a number:\\n\"))\n",
        "factorial = 1\n",
        "i = 1\n",
        "while i <= number:\n",
        "    factorial *= i\n",
        "    i += 1\n",
        "print(f\"{number}! = {factorial}\")\n"
      ],
      "metadata": {
        "colab": {
          "base_uri": "https://localhost:8080/"
        },
        "id": "8HcgYdoyCDtP",
        "outputId": "599ae4f5-5e4d-4221-ac2f-c860f183abf1"
      },
      "execution_count": null,
      "outputs": [
        {
          "output_type": "stream",
          "name": "stdout",
          "text": [
            "Please enter a number:\n",
            "3\n",
            "3! = 6\n"
          ]
        }
      ]
    },
    {
      "cell_type": "code",
      "source": [
        "#print numbers from 0 until i >= 10\n",
        "i = 0\n",
        "while True:\n",
        "    print(i)\n",
        "    i += 1\n",
        "    if i >= 10:\n",
        "        break\n"
      ],
      "metadata": {
        "colab": {
          "base_uri": "https://localhost:8080/"
        },
        "id": "UBfjtHIgCDqX",
        "outputId": "f08ff73e-f8fa-46d3-da59-a5151336cd39"
      },
      "execution_count": null,
      "outputs": [
        {
          "output_type": "stream",
          "name": "stdout",
          "text": [
            "0\n",
            "1\n",
            "2\n",
            "3\n",
            "4\n",
            "5\n",
            "6\n",
            "7\n",
            "8\n",
            "9\n"
          ]
        }
      ]
    },
    {
      "cell_type": "markdown",
      "source": [
        "#Functions"
      ],
      "metadata": {
        "id": "jAIFxAEXe2HU"
      }
    },
    {
      "cell_type": "code",
      "source": [
        "def say_hi():\n",
        "  print(\"hi there\")\n",
        "#define function"
      ],
      "metadata": {
        "id": "or3HzoAze3Jt"
      },
      "execution_count": null,
      "outputs": []
    },
    {
      "cell_type": "code",
      "source": [
        "say_hi()\n",
        "#call function"
      ],
      "metadata": {
        "colab": {
          "base_uri": "https://localhost:8080/"
        },
        "id": "LZVb2nrmf5OB",
        "outputId": "b5bf3692-8e8b-4529-8ea3-714ba5ff72d1"
      },
      "execution_count": null,
      "outputs": [
        {
          "output_type": "stream",
          "name": "stdout",
          "text": [
            "hi there\n"
          ]
        }
      ]
    },
    {
      "cell_type": "code",
      "source": [
        "for i in range(3):\n",
        "  say_hi()\n",
        "#say hi 3 times"
      ],
      "metadata": {
        "colab": {
          "base_uri": "https://localhost:8080/"
        },
        "id": "7MqpA9Fgf79Z",
        "outputId": "e074d6bf-50d4-474c-9428-a0f1a9eb9a4c"
      },
      "execution_count": null,
      "outputs": [
        {
          "output_type": "stream",
          "name": "stdout",
          "text": [
            "hi there\n",
            "hi there\n",
            "hi there\n"
          ]
        }
      ]
    },
    {
      "cell_type": "code",
      "source": [
        "def print_numbers():\n",
        "  for i in range(10):\n",
        "    print(f\"{i}\", end=' ')\n",
        "#print numbers from 0 - 9"
      ],
      "metadata": {
        "id": "WpsLSp0FgEaY"
      },
      "execution_count": null,
      "outputs": []
    },
    {
      "cell_type": "code",
      "source": [
        "print_numbers()\n",
        "#call the function"
      ],
      "metadata": {
        "colab": {
          "base_uri": "https://localhost:8080/"
        },
        "id": "zBKKF3iXgasP",
        "outputId": "949d2805-62ba-4aea-bfc6-229f21432f28"
      },
      "execution_count": null,
      "outputs": [
        {
          "output_type": "stream",
          "name": "stdout",
          "text": [
            "0 1 2 3 4 5 6 7 8 9 "
          ]
        }
      ]
    },
    {
      "cell_type": "code",
      "source": [
        "number = int(input(\"please enter a number: \"))\n",
        "def multiply():\n",
        "  print(f\"{number} * 17 = {number * 17}\")\n",
        "\n",
        "multiply()\n",
        "#print a number * 17"
      ],
      "metadata": {
        "colab": {
          "base_uri": "https://localhost:8080/"
        },
        "id": "rc7hEA4Egdgt",
        "outputId": "4eeb7c26-d24a-458b-fb96-3ef2939b94d8"
      },
      "execution_count": null,
      "outputs": [
        {
          "output_type": "stream",
          "name": "stdout",
          "text": [
            "please enter a number: 3\n",
            "3 * 17 = 51\n"
          ]
        }
      ]
    },
    {
      "cell_type": "markdown",
      "source": [
        "##function parameters"
      ],
      "metadata": {
        "id": "5im_xXnnhZva"
      }
    },
    {
      "cell_type": "code",
      "source": [
        "number = (int(input(\"please enter a number: \")))\n",
        "def multiply(number):\n",
        "  print(f\"{number} * 17 = {number * 17}\")\n",
        "multiply(number)\n",
        "#pass arguments into multiply function"
      ],
      "metadata": {
        "colab": {
          "base_uri": "https://localhost:8080/"
        },
        "id": "WXorApahiGdA",
        "outputId": "60b86ada-697e-49ba-a86a-6ecb21c79c61"
      },
      "execution_count": null,
      "outputs": [
        {
          "output_type": "stream",
          "name": "stdout",
          "text": [
            "please enter a number: 3\n",
            "3 * 17 = 51\n"
          ]
        }
      ]
    },
    {
      "cell_type": "code",
      "source": [
        "def multiply(number) -> int:\n",
        "  print((f\"{number} * 17 = {number * 17}\"))\n",
        "multiply(3)\n",
        "#converts input into int"
      ],
      "metadata": {
        "colab": {
          "base_uri": "https://localhost:8080/"
        },
        "id": "YFYqO4YLiarE",
        "outputId": "f4381820-04d7-46ee-d2cd-0b16e34cae0b"
      },
      "execution_count": null,
      "outputs": [
        {
          "output_type": "stream",
          "name": "stdout",
          "text": [
            "3 * 17 = 51\n"
          ]
        }
      ]
    },
    {
      "cell_type": "code",
      "source": [
        "def say_hi(name, times):\n",
        "  for i in range(times):\n",
        "    print(f\"hi there {name}\")\n",
        "say_hi(\"sarah\", 5)\n",
        "#print name 5 times"
      ],
      "metadata": {
        "colab": {
          "base_uri": "https://localhost:8080/"
        },
        "id": "Ww6adfIVjMQ_",
        "outputId": "ac154178-e3cf-48f0-9e60-7e1927f308c3"
      },
      "execution_count": null,
      "outputs": [
        {
          "output_type": "stream",
          "name": "stdout",
          "text": [
            "hi there sarah\n",
            "hi there sarah\n",
            "hi there sarah\n",
            "hi there sarah\n",
            "hi there sarah\n"
          ]
        }
      ]
    },
    {
      "cell_type": "code",
      "source": [
        "def capitalize(message, amount = 1):\n",
        "  new_message = \"\"\n",
        "  for i in range(amount):\n",
        "    new_message += message[i].upper()\n",
        "  new_message += message[amount:]\n",
        "  print(new_message)\n",
        "\n",
        "capitalize(\"hi there\")\n",
        "#capitalize letters with a default value of amount so it is not needed."
      ],
      "metadata": {
        "colab": {
          "base_uri": "https://localhost:8080/"
        },
        "id": "144NSZrHji1H",
        "outputId": "85c64530-4097-4d7b-ebdb-edc0bb24b70c"
      },
      "execution_count": null,
      "outputs": [
        {
          "output_type": "stream",
          "name": "stdout",
          "text": [
            "Hi there\n"
          ]
        }
      ]
    },
    {
      "cell_type": "markdown",
      "source": [
        "##`return` keyword"
      ],
      "metadata": {
        "id": "Lb9cQinukI5D"
      }
    },
    {
      "cell_type": "code",
      "source": [
        "def square(number):\n",
        "  return number * number\n",
        "square(3)\n",
        "#square a number"
      ],
      "metadata": {
        "colab": {
          "base_uri": "https://localhost:8080/"
        },
        "id": "L9qgXFYTkXvg",
        "outputId": "6da8e96e-c5ac-4310-9754-d49fb2928fc2"
      },
      "execution_count": null,
      "outputs": [
        {
          "output_type": "execute_result",
          "data": {
            "text/plain": [
              "9"
            ]
          },
          "metadata": {},
          "execution_count": 33
        }
      ]
    },
    {
      "cell_type": "code",
      "source": [
        "for i in range(10):\n",
        "  print(square(i))\n",
        "#square numbers from 0 - 9"
      ],
      "metadata": {
        "colab": {
          "base_uri": "https://localhost:8080/"
        },
        "id": "xUxNIBOZkwgq",
        "outputId": "5c7fd159-6652-41fe-bfee-e4e45a6672a6"
      },
      "execution_count": null,
      "outputs": [
        {
          "output_type": "stream",
          "name": "stdout",
          "text": [
            "0\n",
            "1\n",
            "4\n",
            "9\n",
            "16\n",
            "25\n",
            "36\n",
            "49\n",
            "64\n",
            "81\n"
          ]
        }
      ]
    },
    {
      "cell_type": "code",
      "source": [
        "def goodbye(name):\n",
        "  if name[0].upper() == \"A\":\n",
        "    return f\"Adios {name}\"\n",
        "  elif name[0].upper() == \"B\":\n",
        "    return f\"Bye {name}\"\n",
        "  elif name[0].upper() == \"C\":\n",
        "    return f\"Ciao {name}\"\n",
        "  else:\n",
        "    return f\"Goodbye {name}\"\n",
        "goodbye(\"sir\")\n",
        "#print different goodbyes based on name"
      ],
      "metadata": {
        "colab": {
          "base_uri": "https://localhost:8080/",
          "height": 35
        },
        "id": "wXfOTrRik2ji",
        "outputId": "aa365a63-130e-47af-cac8-cc405ce509fc"
      },
      "execution_count": null,
      "outputs": [
        {
          "output_type": "execute_result",
          "data": {
            "text/plain": [
              "'Goodbye sir'"
            ],
            "application/vnd.google.colaboratory.intrinsic+json": {
              "type": "string"
            }
          },
          "metadata": {},
          "execution_count": 35
        }
      ]
    },
    {
      "cell_type": "markdown",
      "source": [
        "##practice"
      ],
      "metadata": {
        "id": "znJgZeMCe63n"
      }
    },
    {
      "cell_type": "code",
      "source": [
        "def add(num1, num2):\n",
        "  print(f\"Addition: {num1} + {num2} = {num1 + num2}\")"
      ],
      "metadata": {
        "id": "2r02JcCHq0x5"
      },
      "execution_count": null,
      "outputs": []
    },
    {
      "cell_type": "code",
      "source": [
        "def subtract(num1, num2):\n",
        "  print(f\"Subtraction: {num1} - {num2} = {num1 - num2}\")"
      ],
      "metadata": {
        "id": "L7DpIdXpq0rx"
      },
      "execution_count": null,
      "outputs": []
    },
    {
      "cell_type": "code",
      "source": [
        "def division(num1, num2):\n",
        "  if (num2 != 0):\n",
        "    print(f\"Division: {num1} / {num2} = {num1 / num2}\")\n",
        "  else:\n",
        "    print(\"Division: ERROR, division by 0\")\n",
        "#only divide if num2 != 0"
      ],
      "metadata": {
        "id": "1Rg42oeVq0jn"
      },
      "execution_count": 1,
      "outputs": []
    },
    {
      "cell_type": "code",
      "source": [
        "def multiply(num1, num2):\n",
        "  print(f\"Multiplication: {num1} * {num2} = {num1 * num2}\")"
      ],
      "metadata": {
        "id": "NpLxQfL9q0gy"
      },
      "execution_count": null,
      "outputs": []
    },
    {
      "cell_type": "code",
      "source": [
        "def exponentiate(num1, num2):\n",
        "  print(f\"Exponentiation: {num1} ^ {num2} = {num1 ** num2}\")"
      ],
      "metadata": {
        "id": "yVVvug_brSr1"
      },
      "execution_count": null,
      "outputs": []
    },
    {
      "cell_type": "code",
      "source": [
        "def calculate(num1, num2):\n",
        "  add(num1, num2)\n",
        "  subtract(num1, num2)\n",
        "  division(num1, num2)\n",
        "  multiply(num1, num2)\n",
        "  exponentiate(num1, num2)"
      ],
      "metadata": {
        "id": "PluzNwPPlXiq"
      },
      "execution_count": null,
      "outputs": []
    },
    {
      "cell_type": "code",
      "source": [
        "num1 = int(input(\"please enter a number: \"))\n",
        "num2 = int(input(\"please enter another number: \"))\n",
        "calculate(num1, num2)\n",
        "#print out all calculations for 2 numbers"
      ],
      "metadata": {
        "colab": {
          "base_uri": "https://localhost:8080/"
        },
        "id": "EAEKoy2sm10S",
        "outputId": "cb7b65b3-9a8b-44fe-e027-6af20a982f60"
      },
      "execution_count": null,
      "outputs": [
        {
          "output_type": "stream",
          "name": "stdout",
          "text": [
            "please enter a number: 3\n",
            "please enter another number: 4\n",
            "Addition: 3 + 4 = 7\n",
            "Subtraction: 3 - 4 = -1\n",
            "Division: 3 / 4 = 0.75\n",
            "Multiplication: 3 * 4 = 12\n",
            "Exponentiation: 3 ^ 4 = 81\n"
          ]
        }
      ]
    },
    {
      "cell_type": "code",
      "source": [],
      "metadata": {
        "id": "m-im8PKzrjuE"
      },
      "execution_count": null,
      "outputs": []
    }
  ]
}